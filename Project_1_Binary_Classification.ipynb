{
  "nbformat": 4,
  "nbformat_minor": 0,
  "metadata": {
    "colab": {
      "provenance": [],
      "authorship_tag": "ABX9TyMZFgFbfu7EqyS5DXOQpvBC",
      "include_colab_link": true
    },
    "kernelspec": {
      "name": "python3",
      "display_name": "Python 3"
    },
    "language_info": {
      "name": "python"
    }
  },
  "cells": [
    {
      "cell_type": "markdown",
      "metadata": {
        "id": "view-in-github",
        "colab_type": "text"
      },
      "source": [
        "<a href=\"https://colab.research.google.com/github/Kaua-Rbs/Deep-Learning-From-A-To-Z-With-Pytorch-And-Python/blob/main/Project_1_Binary_Classification.ipynb\" target=\"_parent\"><img src=\"https://colab.research.google.com/assets/colab-badge.svg\" alt=\"Open In Colab\"/></a>"
      ]
    },
    {
      "cell_type": "markdown",
      "source": [
        "#Project 1: Binary Classification: Breast Cancer"
      ],
      "metadata": {
        "id": "_e2GRVXUR0GS"
      }
    },
    {
      "cell_type": "markdown",
      "source": [
        "##Importing Libraries"
      ],
      "metadata": {
        "id": "cD3Lk1qLSRPm"
      }
    },
    {
      "cell_type": "code",
      "source": [
        "import pandas as pd\n",
        "from sklearn.model_selection import train_test_split\n",
        "import numpy as np\n",
        "import seaborn as sns\n",
        "from sklearn.metrics import confusion_matrix, accuracy_score"
      ],
      "metadata": {
        "id": "kzFBmpdER4VR"
      },
      "execution_count": 1,
      "outputs": []
    },
    {
      "cell_type": "code",
      "source": [
        "import torch\n",
        "torch.__version__"
      ],
      "metadata": {
        "colab": {
          "base_uri": "https://localhost:8080/",
          "height": 36
        },
        "id": "EGfg1Twuj-1L",
        "outputId": "d082b472-fa41-4f39-85ef-9fbc9fbc0cda"
      },
      "execution_count": 2,
      "outputs": [
        {
          "output_type": "execute_result",
          "data": {
            "text/plain": [
              "'2.3.0+cu121'"
            ],
            "application/vnd.google.colaboratory.intrinsic+json": {
              "type": "string"
            }
          },
          "metadata": {},
          "execution_count": 2
        }
      ]
    },
    {
      "cell_type": "code",
      "source": [
        "import torch.nn as nn"
      ],
      "metadata": {
        "id": "sfrl2CJriL0o"
      },
      "execution_count": null,
      "outputs": []
    },
    {
      "cell_type": "markdown",
      "source": [
        "##Database"
      ],
      "metadata": {
        "id": "A9gJs6W9iais"
      }
    },
    {
      "cell_type": "code",
      "source": [
        "np.random.seed(123)\n",
        "torch.manual_seed(123)"
      ],
      "metadata": {
        "colab": {
          "base_uri": "https://localhost:8080/"
        },
        "id": "mwL_3c0PidmR",
        "outputId": "7aa800db-10c1-409d-99d3-9dfddb66cac1"
      },
      "execution_count": null,
      "outputs": [
        {
          "output_type": "execute_result",
          "data": {
            "text/plain": [
              "<torch._C.Generator at 0x7a73dbf94730>"
            ]
          },
          "metadata": {},
          "execution_count": 5
        }
      ]
    },
    {
      "cell_type": "code",
      "source": [
        "previsores = pd.read_csv('/content/entradas_breast.csv')\n",
        "classe = pd.read_csv('/content/saidas_breast.csv')"
      ],
      "metadata": {
        "id": "vdV67zNKipmy"
      },
      "execution_count": null,
      "outputs": []
    },
    {
      "cell_type": "code",
      "source": [
        "previsores.shape"
      ],
      "metadata": {
        "colab": {
          "base_uri": "https://localhost:8080/"
        },
        "id": "g5aDinbl44PT",
        "outputId": "00dfc790-c633-4964-b72d-913b0517a360"
      },
      "execution_count": null,
      "outputs": [
        {
          "output_type": "execute_result",
          "data": {
            "text/plain": [
              "(569, 30)"
            ]
          },
          "metadata": {},
          "execution_count": 10
        }
      ]
    },
    {
      "cell_type": "code",
      "source": [
        "previsores.head()"
      ],
      "metadata": {
        "colab": {
          "base_uri": "https://localhost:8080/",
          "height": 255
        },
        "id": "quRh3dXs47Jr",
        "outputId": "99008f22-169c-4fad-e15c-d1fd321f15d9"
      },
      "execution_count": null,
      "outputs": [
        {
          "output_type": "execute_result",
          "data": {
            "text/plain": [
              "    radius_mean   texture_mean   perimeter_mean   area_mean   smoothness_mean  \\\n",
              "0         17.99          10.38           122.80      1001.0           0.11840   \n",
              "1         20.57          17.77           132.90      1326.0           0.08474   \n",
              "2         19.69          21.25           130.00      1203.0           0.10960   \n",
              "3         11.42          20.38            77.58       386.1           0.14250   \n",
              "4         20.29          14.34           135.10      1297.0           0.10030   \n",
              "\n",
              "    compactness_mean   concavity_mean  concave_points_mean   symmetry_mean  \\\n",
              "0            0.27760           0.3001              0.14710          0.2419   \n",
              "1            0.07864           0.0869              0.07017          0.1812   \n",
              "2            0.15990           0.1974              0.12790          0.2069   \n",
              "3            0.28390           0.2414              0.10520          0.2597   \n",
              "4            0.13280         198.0000              0.10430          0.1809   \n",
              "\n",
              "    fractal_dimension_mean  ...   radius_worst   texture_worst  \\\n",
              "0                  0.07871  ...          25.38           17.33   \n",
              "1                  0.05667  ...          24.99           23.41   \n",
              "2                  0.05999  ...          23.57           25.53   \n",
              "3                  0.09744  ...          14.91           26.50   \n",
              "4                  0.05883  ...          22.54           16.67   \n",
              "\n",
              "    perimeter_worst   area_worst   smoothness_worst   compactness_worst  \\\n",
              "0            184.60       2019.0             0.1622              0.6656   \n",
              "1            158.80       1956.0             0.1238              0.1866   \n",
              "2            152.50       1709.0             0.1444              0.4245   \n",
              "3             98.87        567.7             0.2098              0.8663   \n",
              "4            152.20       1575.0             0.1374            205.0000   \n",
              "\n",
              "    concavity_worst   concave_points_worst   symmetry_worst  \\\n",
              "0            0.7119                 0.2654           0.4601   \n",
              "1            0.2416               186.0000         275.0000   \n",
              "2            0.4504               243.0000           0.3613   \n",
              "3            0.6869                 0.2575           0.6638   \n",
              "4            0.4000                 0.1625           0.2364   \n",
              "\n",
              "    fractal_dimension_worst  \n",
              "0                   0.11890  \n",
              "1                   0.08902  \n",
              "2                   0.08758  \n",
              "3                 173.00000  \n",
              "4                   0.07678  \n",
              "\n",
              "[5 rows x 30 columns]"
            ],
            "text/html": [
              "\n",
              "  <div id=\"df-0caf450d-95b5-4f15-bf66-ca284d8036e0\" class=\"colab-df-container\">\n",
              "    <div>\n",
              "<style scoped>\n",
              "    .dataframe tbody tr th:only-of-type {\n",
              "        vertical-align: middle;\n",
              "    }\n",
              "\n",
              "    .dataframe tbody tr th {\n",
              "        vertical-align: top;\n",
              "    }\n",
              "\n",
              "    .dataframe thead th {\n",
              "        text-align: right;\n",
              "    }\n",
              "</style>\n",
              "<table border=\"1\" class=\"dataframe\">\n",
              "  <thead>\n",
              "    <tr style=\"text-align: right;\">\n",
              "      <th></th>\n",
              "      <th>radius_mean</th>\n",
              "      <th>texture_mean</th>\n",
              "      <th>perimeter_mean</th>\n",
              "      <th>area_mean</th>\n",
              "      <th>smoothness_mean</th>\n",
              "      <th>compactness_mean</th>\n",
              "      <th>concavity_mean</th>\n",
              "      <th>concave_points_mean</th>\n",
              "      <th>symmetry_mean</th>\n",
              "      <th>fractal_dimension_mean</th>\n",
              "      <th>...</th>\n",
              "      <th>radius_worst</th>\n",
              "      <th>texture_worst</th>\n",
              "      <th>perimeter_worst</th>\n",
              "      <th>area_worst</th>\n",
              "      <th>smoothness_worst</th>\n",
              "      <th>compactness_worst</th>\n",
              "      <th>concavity_worst</th>\n",
              "      <th>concave_points_worst</th>\n",
              "      <th>symmetry_worst</th>\n",
              "      <th>fractal_dimension_worst</th>\n",
              "    </tr>\n",
              "  </thead>\n",
              "  <tbody>\n",
              "    <tr>\n",
              "      <th>0</th>\n",
              "      <td>17.99</td>\n",
              "      <td>10.38</td>\n",
              "      <td>122.80</td>\n",
              "      <td>1001.0</td>\n",
              "      <td>0.11840</td>\n",
              "      <td>0.27760</td>\n",
              "      <td>0.3001</td>\n",
              "      <td>0.14710</td>\n",
              "      <td>0.2419</td>\n",
              "      <td>0.07871</td>\n",
              "      <td>...</td>\n",
              "      <td>25.38</td>\n",
              "      <td>17.33</td>\n",
              "      <td>184.60</td>\n",
              "      <td>2019.0</td>\n",
              "      <td>0.1622</td>\n",
              "      <td>0.6656</td>\n",
              "      <td>0.7119</td>\n",
              "      <td>0.2654</td>\n",
              "      <td>0.4601</td>\n",
              "      <td>0.11890</td>\n",
              "    </tr>\n",
              "    <tr>\n",
              "      <th>1</th>\n",
              "      <td>20.57</td>\n",
              "      <td>17.77</td>\n",
              "      <td>132.90</td>\n",
              "      <td>1326.0</td>\n",
              "      <td>0.08474</td>\n",
              "      <td>0.07864</td>\n",
              "      <td>0.0869</td>\n",
              "      <td>0.07017</td>\n",
              "      <td>0.1812</td>\n",
              "      <td>0.05667</td>\n",
              "      <td>...</td>\n",
              "      <td>24.99</td>\n",
              "      <td>23.41</td>\n",
              "      <td>158.80</td>\n",
              "      <td>1956.0</td>\n",
              "      <td>0.1238</td>\n",
              "      <td>0.1866</td>\n",
              "      <td>0.2416</td>\n",
              "      <td>186.0000</td>\n",
              "      <td>275.0000</td>\n",
              "      <td>0.08902</td>\n",
              "    </tr>\n",
              "    <tr>\n",
              "      <th>2</th>\n",
              "      <td>19.69</td>\n",
              "      <td>21.25</td>\n",
              "      <td>130.00</td>\n",
              "      <td>1203.0</td>\n",
              "      <td>0.10960</td>\n",
              "      <td>0.15990</td>\n",
              "      <td>0.1974</td>\n",
              "      <td>0.12790</td>\n",
              "      <td>0.2069</td>\n",
              "      <td>0.05999</td>\n",
              "      <td>...</td>\n",
              "      <td>23.57</td>\n",
              "      <td>25.53</td>\n",
              "      <td>152.50</td>\n",
              "      <td>1709.0</td>\n",
              "      <td>0.1444</td>\n",
              "      <td>0.4245</td>\n",
              "      <td>0.4504</td>\n",
              "      <td>243.0000</td>\n",
              "      <td>0.3613</td>\n",
              "      <td>0.08758</td>\n",
              "    </tr>\n",
              "    <tr>\n",
              "      <th>3</th>\n",
              "      <td>11.42</td>\n",
              "      <td>20.38</td>\n",
              "      <td>77.58</td>\n",
              "      <td>386.1</td>\n",
              "      <td>0.14250</td>\n",
              "      <td>0.28390</td>\n",
              "      <td>0.2414</td>\n",
              "      <td>0.10520</td>\n",
              "      <td>0.2597</td>\n",
              "      <td>0.09744</td>\n",
              "      <td>...</td>\n",
              "      <td>14.91</td>\n",
              "      <td>26.50</td>\n",
              "      <td>98.87</td>\n",
              "      <td>567.7</td>\n",
              "      <td>0.2098</td>\n",
              "      <td>0.8663</td>\n",
              "      <td>0.6869</td>\n",
              "      <td>0.2575</td>\n",
              "      <td>0.6638</td>\n",
              "      <td>173.00000</td>\n",
              "    </tr>\n",
              "    <tr>\n",
              "      <th>4</th>\n",
              "      <td>20.29</td>\n",
              "      <td>14.34</td>\n",
              "      <td>135.10</td>\n",
              "      <td>1297.0</td>\n",
              "      <td>0.10030</td>\n",
              "      <td>0.13280</td>\n",
              "      <td>198.0000</td>\n",
              "      <td>0.10430</td>\n",
              "      <td>0.1809</td>\n",
              "      <td>0.05883</td>\n",
              "      <td>...</td>\n",
              "      <td>22.54</td>\n",
              "      <td>16.67</td>\n",
              "      <td>152.20</td>\n",
              "      <td>1575.0</td>\n",
              "      <td>0.1374</td>\n",
              "      <td>205.0000</td>\n",
              "      <td>0.4000</td>\n",
              "      <td>0.1625</td>\n",
              "      <td>0.2364</td>\n",
              "      <td>0.07678</td>\n",
              "    </tr>\n",
              "  </tbody>\n",
              "</table>\n",
              "<p>5 rows × 30 columns</p>\n",
              "</div>\n",
              "    <div class=\"colab-df-buttons\">\n",
              "\n",
              "  <div class=\"colab-df-container\">\n",
              "    <button class=\"colab-df-convert\" onclick=\"convertToInteractive('df-0caf450d-95b5-4f15-bf66-ca284d8036e0')\"\n",
              "            title=\"Convert this dataframe to an interactive table.\"\n",
              "            style=\"display:none;\">\n",
              "\n",
              "  <svg xmlns=\"http://www.w3.org/2000/svg\" height=\"24px\" viewBox=\"0 -960 960 960\">\n",
              "    <path d=\"M120-120v-720h720v720H120Zm60-500h600v-160H180v160Zm220 220h160v-160H400v160Zm0 220h160v-160H400v160ZM180-400h160v-160H180v160Zm440 0h160v-160H620v160ZM180-180h160v-160H180v160Zm440 0h160v-160H620v160Z\"/>\n",
              "  </svg>\n",
              "    </button>\n",
              "\n",
              "  <style>\n",
              "    .colab-df-container {\n",
              "      display:flex;\n",
              "      gap: 12px;\n",
              "    }\n",
              "\n",
              "    .colab-df-convert {\n",
              "      background-color: #E8F0FE;\n",
              "      border: none;\n",
              "      border-radius: 50%;\n",
              "      cursor: pointer;\n",
              "      display: none;\n",
              "      fill: #1967D2;\n",
              "      height: 32px;\n",
              "      padding: 0 0 0 0;\n",
              "      width: 32px;\n",
              "    }\n",
              "\n",
              "    .colab-df-convert:hover {\n",
              "      background-color: #E2EBFA;\n",
              "      box-shadow: 0px 1px 2px rgba(60, 64, 67, 0.3), 0px 1px 3px 1px rgba(60, 64, 67, 0.15);\n",
              "      fill: #174EA6;\n",
              "    }\n",
              "\n",
              "    .colab-df-buttons div {\n",
              "      margin-bottom: 4px;\n",
              "    }\n",
              "\n",
              "    [theme=dark] .colab-df-convert {\n",
              "      background-color: #3B4455;\n",
              "      fill: #D2E3FC;\n",
              "    }\n",
              "\n",
              "    [theme=dark] .colab-df-convert:hover {\n",
              "      background-color: #434B5C;\n",
              "      box-shadow: 0px 1px 3px 1px rgba(0, 0, 0, 0.15);\n",
              "      filter: drop-shadow(0px 1px 2px rgba(0, 0, 0, 0.3));\n",
              "      fill: #FFFFFF;\n",
              "    }\n",
              "  </style>\n",
              "\n",
              "    <script>\n",
              "      const buttonEl =\n",
              "        document.querySelector('#df-0caf450d-95b5-4f15-bf66-ca284d8036e0 button.colab-df-convert');\n",
              "      buttonEl.style.display =\n",
              "        google.colab.kernel.accessAllowed ? 'block' : 'none';\n",
              "\n",
              "      async function convertToInteractive(key) {\n",
              "        const element = document.querySelector('#df-0caf450d-95b5-4f15-bf66-ca284d8036e0');\n",
              "        const dataTable =\n",
              "          await google.colab.kernel.invokeFunction('convertToInteractive',\n",
              "                                                    [key], {});\n",
              "        if (!dataTable) return;\n",
              "\n",
              "        const docLinkHtml = 'Like what you see? Visit the ' +\n",
              "          '<a target=\"_blank\" href=https://colab.research.google.com/notebooks/data_table.ipynb>data table notebook</a>'\n",
              "          + ' to learn more about interactive tables.';\n",
              "        element.innerHTML = '';\n",
              "        dataTable['output_type'] = 'display_data';\n",
              "        await google.colab.output.renderOutput(dataTable, element);\n",
              "        const docLink = document.createElement('div');\n",
              "        docLink.innerHTML = docLinkHtml;\n",
              "        element.appendChild(docLink);\n",
              "      }\n",
              "    </script>\n",
              "  </div>\n",
              "\n",
              "\n",
              "<div id=\"df-bfe4caac-7be1-418e-87e3-1a47918a3a4e\">\n",
              "  <button class=\"colab-df-quickchart\" onclick=\"quickchart('df-bfe4caac-7be1-418e-87e3-1a47918a3a4e')\"\n",
              "            title=\"Suggest charts\"\n",
              "            style=\"display:none;\">\n",
              "\n",
              "<svg xmlns=\"http://www.w3.org/2000/svg\" height=\"24px\"viewBox=\"0 0 24 24\"\n",
              "     width=\"24px\">\n",
              "    <g>\n",
              "        <path d=\"M19 3H5c-1.1 0-2 .9-2 2v14c0 1.1.9 2 2 2h14c1.1 0 2-.9 2-2V5c0-1.1-.9-2-2-2zM9 17H7v-7h2v7zm4 0h-2V7h2v10zm4 0h-2v-4h2v4z\"/>\n",
              "    </g>\n",
              "</svg>\n",
              "  </button>\n",
              "\n",
              "<style>\n",
              "  .colab-df-quickchart {\n",
              "      --bg-color: #E8F0FE;\n",
              "      --fill-color: #1967D2;\n",
              "      --hover-bg-color: #E2EBFA;\n",
              "      --hover-fill-color: #174EA6;\n",
              "      --disabled-fill-color: #AAA;\n",
              "      --disabled-bg-color: #DDD;\n",
              "  }\n",
              "\n",
              "  [theme=dark] .colab-df-quickchart {\n",
              "      --bg-color: #3B4455;\n",
              "      --fill-color: #D2E3FC;\n",
              "      --hover-bg-color: #434B5C;\n",
              "      --hover-fill-color: #FFFFFF;\n",
              "      --disabled-bg-color: #3B4455;\n",
              "      --disabled-fill-color: #666;\n",
              "  }\n",
              "\n",
              "  .colab-df-quickchart {\n",
              "    background-color: var(--bg-color);\n",
              "    border: none;\n",
              "    border-radius: 50%;\n",
              "    cursor: pointer;\n",
              "    display: none;\n",
              "    fill: var(--fill-color);\n",
              "    height: 32px;\n",
              "    padding: 0;\n",
              "    width: 32px;\n",
              "  }\n",
              "\n",
              "  .colab-df-quickchart:hover {\n",
              "    background-color: var(--hover-bg-color);\n",
              "    box-shadow: 0 1px 2px rgba(60, 64, 67, 0.3), 0 1px 3px 1px rgba(60, 64, 67, 0.15);\n",
              "    fill: var(--button-hover-fill-color);\n",
              "  }\n",
              "\n",
              "  .colab-df-quickchart-complete:disabled,\n",
              "  .colab-df-quickchart-complete:disabled:hover {\n",
              "    background-color: var(--disabled-bg-color);\n",
              "    fill: var(--disabled-fill-color);\n",
              "    box-shadow: none;\n",
              "  }\n",
              "\n",
              "  .colab-df-spinner {\n",
              "    border: 2px solid var(--fill-color);\n",
              "    border-color: transparent;\n",
              "    border-bottom-color: var(--fill-color);\n",
              "    animation:\n",
              "      spin 1s steps(1) infinite;\n",
              "  }\n",
              "\n",
              "  @keyframes spin {\n",
              "    0% {\n",
              "      border-color: transparent;\n",
              "      border-bottom-color: var(--fill-color);\n",
              "      border-left-color: var(--fill-color);\n",
              "    }\n",
              "    20% {\n",
              "      border-color: transparent;\n",
              "      border-left-color: var(--fill-color);\n",
              "      border-top-color: var(--fill-color);\n",
              "    }\n",
              "    30% {\n",
              "      border-color: transparent;\n",
              "      border-left-color: var(--fill-color);\n",
              "      border-top-color: var(--fill-color);\n",
              "      border-right-color: var(--fill-color);\n",
              "    }\n",
              "    40% {\n",
              "      border-color: transparent;\n",
              "      border-right-color: var(--fill-color);\n",
              "      border-top-color: var(--fill-color);\n",
              "    }\n",
              "    60% {\n",
              "      border-color: transparent;\n",
              "      border-right-color: var(--fill-color);\n",
              "    }\n",
              "    80% {\n",
              "      border-color: transparent;\n",
              "      border-right-color: var(--fill-color);\n",
              "      border-bottom-color: var(--fill-color);\n",
              "    }\n",
              "    90% {\n",
              "      border-color: transparent;\n",
              "      border-bottom-color: var(--fill-color);\n",
              "    }\n",
              "  }\n",
              "</style>\n",
              "\n",
              "  <script>\n",
              "    async function quickchart(key) {\n",
              "      const quickchartButtonEl =\n",
              "        document.querySelector('#' + key + ' button');\n",
              "      quickchartButtonEl.disabled = true;  // To prevent multiple clicks.\n",
              "      quickchartButtonEl.classList.add('colab-df-spinner');\n",
              "      try {\n",
              "        const charts = await google.colab.kernel.invokeFunction(\n",
              "            'suggestCharts', [key], {});\n",
              "      } catch (error) {\n",
              "        console.error('Error during call to suggestCharts:', error);\n",
              "      }\n",
              "      quickchartButtonEl.classList.remove('colab-df-spinner');\n",
              "      quickchartButtonEl.classList.add('colab-df-quickchart-complete');\n",
              "    }\n",
              "    (() => {\n",
              "      let quickchartButtonEl =\n",
              "        document.querySelector('#df-bfe4caac-7be1-418e-87e3-1a47918a3a4e button');\n",
              "      quickchartButtonEl.style.display =\n",
              "        google.colab.kernel.accessAllowed ? 'block' : 'none';\n",
              "    })();\n",
              "  </script>\n",
              "</div>\n",
              "\n",
              "    </div>\n",
              "  </div>\n"
            ],
            "application/vnd.google.colaboratory.intrinsic+json": {
              "type": "dataframe",
              "variable_name": "previsores"
            }
          },
          "metadata": {},
          "execution_count": 11
        }
      ]
    },
    {
      "cell_type": "code",
      "source": [
        "classe.head()"
      ],
      "metadata": {
        "colab": {
          "base_uri": "https://localhost:8080/",
          "height": 206
        },
        "id": "KFP3tzTn4-7a",
        "outputId": "6d64a942-96be-4fec-f2ce-f927a2005af4"
      },
      "execution_count": null,
      "outputs": [
        {
          "output_type": "execute_result",
          "data": {
            "text/plain": [
              "   0\n",
              "0  0\n",
              "1  0\n",
              "2  0\n",
              "3  0\n",
              "4  0"
            ],
            "text/html": [
              "\n",
              "  <div id=\"df-ae3e6858-3885-498b-b211-dc69c9ebfe2a\" class=\"colab-df-container\">\n",
              "    <div>\n",
              "<style scoped>\n",
              "    .dataframe tbody tr th:only-of-type {\n",
              "        vertical-align: middle;\n",
              "    }\n",
              "\n",
              "    .dataframe tbody tr th {\n",
              "        vertical-align: top;\n",
              "    }\n",
              "\n",
              "    .dataframe thead th {\n",
              "        text-align: right;\n",
              "    }\n",
              "</style>\n",
              "<table border=\"1\" class=\"dataframe\">\n",
              "  <thead>\n",
              "    <tr style=\"text-align: right;\">\n",
              "      <th></th>\n",
              "      <th>0</th>\n",
              "    </tr>\n",
              "  </thead>\n",
              "  <tbody>\n",
              "    <tr>\n",
              "      <th>0</th>\n",
              "      <td>0</td>\n",
              "    </tr>\n",
              "    <tr>\n",
              "      <th>1</th>\n",
              "      <td>0</td>\n",
              "    </tr>\n",
              "    <tr>\n",
              "      <th>2</th>\n",
              "      <td>0</td>\n",
              "    </tr>\n",
              "    <tr>\n",
              "      <th>3</th>\n",
              "      <td>0</td>\n",
              "    </tr>\n",
              "    <tr>\n",
              "      <th>4</th>\n",
              "      <td>0</td>\n",
              "    </tr>\n",
              "  </tbody>\n",
              "</table>\n",
              "</div>\n",
              "    <div class=\"colab-df-buttons\">\n",
              "\n",
              "  <div class=\"colab-df-container\">\n",
              "    <button class=\"colab-df-convert\" onclick=\"convertToInteractive('df-ae3e6858-3885-498b-b211-dc69c9ebfe2a')\"\n",
              "            title=\"Convert this dataframe to an interactive table.\"\n",
              "            style=\"display:none;\">\n",
              "\n",
              "  <svg xmlns=\"http://www.w3.org/2000/svg\" height=\"24px\" viewBox=\"0 -960 960 960\">\n",
              "    <path d=\"M120-120v-720h720v720H120Zm60-500h600v-160H180v160Zm220 220h160v-160H400v160Zm0 220h160v-160H400v160ZM180-400h160v-160H180v160Zm440 0h160v-160H620v160ZM180-180h160v-160H180v160Zm440 0h160v-160H620v160Z\"/>\n",
              "  </svg>\n",
              "    </button>\n",
              "\n",
              "  <style>\n",
              "    .colab-df-container {\n",
              "      display:flex;\n",
              "      gap: 12px;\n",
              "    }\n",
              "\n",
              "    .colab-df-convert {\n",
              "      background-color: #E8F0FE;\n",
              "      border: none;\n",
              "      border-radius: 50%;\n",
              "      cursor: pointer;\n",
              "      display: none;\n",
              "      fill: #1967D2;\n",
              "      height: 32px;\n",
              "      padding: 0 0 0 0;\n",
              "      width: 32px;\n",
              "    }\n",
              "\n",
              "    .colab-df-convert:hover {\n",
              "      background-color: #E2EBFA;\n",
              "      box-shadow: 0px 1px 2px rgba(60, 64, 67, 0.3), 0px 1px 3px 1px rgba(60, 64, 67, 0.15);\n",
              "      fill: #174EA6;\n",
              "    }\n",
              "\n",
              "    .colab-df-buttons div {\n",
              "      margin-bottom: 4px;\n",
              "    }\n",
              "\n",
              "    [theme=dark] .colab-df-convert {\n",
              "      background-color: #3B4455;\n",
              "      fill: #D2E3FC;\n",
              "    }\n",
              "\n",
              "    [theme=dark] .colab-df-convert:hover {\n",
              "      background-color: #434B5C;\n",
              "      box-shadow: 0px 1px 3px 1px rgba(0, 0, 0, 0.15);\n",
              "      filter: drop-shadow(0px 1px 2px rgba(0, 0, 0, 0.3));\n",
              "      fill: #FFFFFF;\n",
              "    }\n",
              "  </style>\n",
              "\n",
              "    <script>\n",
              "      const buttonEl =\n",
              "        document.querySelector('#df-ae3e6858-3885-498b-b211-dc69c9ebfe2a button.colab-df-convert');\n",
              "      buttonEl.style.display =\n",
              "        google.colab.kernel.accessAllowed ? 'block' : 'none';\n",
              "\n",
              "      async function convertToInteractive(key) {\n",
              "        const element = document.querySelector('#df-ae3e6858-3885-498b-b211-dc69c9ebfe2a');\n",
              "        const dataTable =\n",
              "          await google.colab.kernel.invokeFunction('convertToInteractive',\n",
              "                                                    [key], {});\n",
              "        if (!dataTable) return;\n",
              "\n",
              "        const docLinkHtml = 'Like what you see? Visit the ' +\n",
              "          '<a target=\"_blank\" href=https://colab.research.google.com/notebooks/data_table.ipynb>data table notebook</a>'\n",
              "          + ' to learn more about interactive tables.';\n",
              "        element.innerHTML = '';\n",
              "        dataTable['output_type'] = 'display_data';\n",
              "        await google.colab.output.renderOutput(dataTable, element);\n",
              "        const docLink = document.createElement('div');\n",
              "        docLink.innerHTML = docLinkHtml;\n",
              "        element.appendChild(docLink);\n",
              "      }\n",
              "    </script>\n",
              "  </div>\n",
              "\n",
              "\n",
              "<div id=\"df-725dfcee-efcc-4e9d-bf8e-b59165c39a14\">\n",
              "  <button class=\"colab-df-quickchart\" onclick=\"quickchart('df-725dfcee-efcc-4e9d-bf8e-b59165c39a14')\"\n",
              "            title=\"Suggest charts\"\n",
              "            style=\"display:none;\">\n",
              "\n",
              "<svg xmlns=\"http://www.w3.org/2000/svg\" height=\"24px\"viewBox=\"0 0 24 24\"\n",
              "     width=\"24px\">\n",
              "    <g>\n",
              "        <path d=\"M19 3H5c-1.1 0-2 .9-2 2v14c0 1.1.9 2 2 2h14c1.1 0 2-.9 2-2V5c0-1.1-.9-2-2-2zM9 17H7v-7h2v7zm4 0h-2V7h2v10zm4 0h-2v-4h2v4z\"/>\n",
              "    </g>\n",
              "</svg>\n",
              "  </button>\n",
              "\n",
              "<style>\n",
              "  .colab-df-quickchart {\n",
              "      --bg-color: #E8F0FE;\n",
              "      --fill-color: #1967D2;\n",
              "      --hover-bg-color: #E2EBFA;\n",
              "      --hover-fill-color: #174EA6;\n",
              "      --disabled-fill-color: #AAA;\n",
              "      --disabled-bg-color: #DDD;\n",
              "  }\n",
              "\n",
              "  [theme=dark] .colab-df-quickchart {\n",
              "      --bg-color: #3B4455;\n",
              "      --fill-color: #D2E3FC;\n",
              "      --hover-bg-color: #434B5C;\n",
              "      --hover-fill-color: #FFFFFF;\n",
              "      --disabled-bg-color: #3B4455;\n",
              "      --disabled-fill-color: #666;\n",
              "  }\n",
              "\n",
              "  .colab-df-quickchart {\n",
              "    background-color: var(--bg-color);\n",
              "    border: none;\n",
              "    border-radius: 50%;\n",
              "    cursor: pointer;\n",
              "    display: none;\n",
              "    fill: var(--fill-color);\n",
              "    height: 32px;\n",
              "    padding: 0;\n",
              "    width: 32px;\n",
              "  }\n",
              "\n",
              "  .colab-df-quickchart:hover {\n",
              "    background-color: var(--hover-bg-color);\n",
              "    box-shadow: 0 1px 2px rgba(60, 64, 67, 0.3), 0 1px 3px 1px rgba(60, 64, 67, 0.15);\n",
              "    fill: var(--button-hover-fill-color);\n",
              "  }\n",
              "\n",
              "  .colab-df-quickchart-complete:disabled,\n",
              "  .colab-df-quickchart-complete:disabled:hover {\n",
              "    background-color: var(--disabled-bg-color);\n",
              "    fill: var(--disabled-fill-color);\n",
              "    box-shadow: none;\n",
              "  }\n",
              "\n",
              "  .colab-df-spinner {\n",
              "    border: 2px solid var(--fill-color);\n",
              "    border-color: transparent;\n",
              "    border-bottom-color: var(--fill-color);\n",
              "    animation:\n",
              "      spin 1s steps(1) infinite;\n",
              "  }\n",
              "\n",
              "  @keyframes spin {\n",
              "    0% {\n",
              "      border-color: transparent;\n",
              "      border-bottom-color: var(--fill-color);\n",
              "      border-left-color: var(--fill-color);\n",
              "    }\n",
              "    20% {\n",
              "      border-color: transparent;\n",
              "      border-left-color: var(--fill-color);\n",
              "      border-top-color: var(--fill-color);\n",
              "    }\n",
              "    30% {\n",
              "      border-color: transparent;\n",
              "      border-left-color: var(--fill-color);\n",
              "      border-top-color: var(--fill-color);\n",
              "      border-right-color: var(--fill-color);\n",
              "    }\n",
              "    40% {\n",
              "      border-color: transparent;\n",
              "      border-right-color: var(--fill-color);\n",
              "      border-top-color: var(--fill-color);\n",
              "    }\n",
              "    60% {\n",
              "      border-color: transparent;\n",
              "      border-right-color: var(--fill-color);\n",
              "    }\n",
              "    80% {\n",
              "      border-color: transparent;\n",
              "      border-right-color: var(--fill-color);\n",
              "      border-bottom-color: var(--fill-color);\n",
              "    }\n",
              "    90% {\n",
              "      border-color: transparent;\n",
              "      border-bottom-color: var(--fill-color);\n",
              "    }\n",
              "  }\n",
              "</style>\n",
              "\n",
              "  <script>\n",
              "    async function quickchart(key) {\n",
              "      const quickchartButtonEl =\n",
              "        document.querySelector('#' + key + ' button');\n",
              "      quickchartButtonEl.disabled = true;  // To prevent multiple clicks.\n",
              "      quickchartButtonEl.classList.add('colab-df-spinner');\n",
              "      try {\n",
              "        const charts = await google.colab.kernel.invokeFunction(\n",
              "            'suggestCharts', [key], {});\n",
              "      } catch (error) {\n",
              "        console.error('Error during call to suggestCharts:', error);\n",
              "      }\n",
              "      quickchartButtonEl.classList.remove('colab-df-spinner');\n",
              "      quickchartButtonEl.classList.add('colab-df-quickchart-complete');\n",
              "    }\n",
              "    (() => {\n",
              "      let quickchartButtonEl =\n",
              "        document.querySelector('#df-725dfcee-efcc-4e9d-bf8e-b59165c39a14 button');\n",
              "      quickchartButtonEl.style.display =\n",
              "        google.colab.kernel.accessAllowed ? 'block' : 'none';\n",
              "    })();\n",
              "  </script>\n",
              "</div>\n",
              "\n",
              "    </div>\n",
              "  </div>\n"
            ],
            "application/vnd.google.colaboratory.intrinsic+json": {
              "type": "dataframe",
              "variable_name": "classe",
              "summary": "{\n  \"name\": \"classe\",\n  \"rows\": 569,\n  \"fields\": [\n    {\n      \"column\": \"0\",\n      \"properties\": {\n        \"dtype\": \"number\",\n        \"std\": 0,\n        \"min\": 0,\n        \"max\": 1,\n        \"num_unique_values\": 2,\n        \"samples\": [\n          1,\n          0\n        ],\n        \"semantic_type\": \"\",\n        \"description\": \"\"\n      }\n    }\n  ]\n}"
            }
          },
          "metadata": {},
          "execution_count": 12
        }
      ]
    },
    {
      "cell_type": "code",
      "source": [
        "np.unique(classe)"
      ],
      "metadata": {
        "colab": {
          "base_uri": "https://localhost:8080/"
        },
        "id": "UnqSy_hf5iRq",
        "outputId": "dd5feed6-350a-4175-ec36-7ca16e535b2c"
      },
      "execution_count": null,
      "outputs": [
        {
          "output_type": "execute_result",
          "data": {
            "text/plain": [
              "array([0, 1])"
            ]
          },
          "metadata": {},
          "execution_count": 13
        }
      ]
    },
    {
      "cell_type": "code",
      "source": [
        "sns.countplot(x='0', data=classe)"
      ],
      "metadata": {
        "colab": {
          "base_uri": "https://localhost:8080/",
          "height": 466
        },
        "id": "bZMyuMNU55cr",
        "outputId": "abc0bf94-24ce-4572-a604-4846182f9000"
      },
      "execution_count": null,
      "outputs": [
        {
          "output_type": "execute_result",
          "data": {
            "text/plain": [
              "<Axes: xlabel='0', ylabel='count'>"
            ]
          },
          "metadata": {},
          "execution_count": 14
        },
        {
          "output_type": "display_data",
          "data": {
            "text/plain": [
              "<Figure size 640x480 with 1 Axes>"
            ],
            "image/png": "[encoded data removed]"
          },
          "metadata": {}
        }
      ]
    },
    {
      "cell_type": "code",
      "source": [
        "previsores_train, previsores_test, classe_train, classe_test = train_test_split(previsores, classe, test_size=0.25)"
      ],
      "metadata": {
        "id": "QKr5ZdVKNesA"
      },
      "execution_count": null,
      "outputs": []
    },
    {
      "cell_type": "code",
      "source": [
        "previsores_train.shape"
      ],
      "metadata": {
        "colab": {
          "base_uri": "https://localhost:8080/"
        },
        "id": "6zQrRn80Nsw3",
        "outputId": "a7794a93-6143-4c4f-811d-c6e5b1975388"
      },
      "execution_count": null,
      "outputs": [
        {
          "output_type": "execute_result",
          "data": {
            "text/plain": [
              "(426, 30)"
            ]
          },
          "metadata": {},
          "execution_count": 16
        }
      ]
    },
    {
      "cell_type": "code",
      "source": [
        "classe_train.shape"
      ],
      "metadata": {
        "colab": {
          "base_uri": "https://localhost:8080/"
        },
        "id": "3yli8lNCNwau",
        "outputId": "9c9cf551-4d65-47f5-efeb-3c25811dd26e"
      },
      "execution_count": null,
      "outputs": [
        {
          "output_type": "execute_result",
          "data": {
            "text/plain": [
              "(426, 1)"
            ]
          },
          "metadata": {},
          "execution_count": 17
        }
      ]
    },
    {
      "cell_type": "code",
      "source": [
        "previsores_test.shape"
      ],
      "metadata": {
        "colab": {
          "base_uri": "https://localhost:8080/"
        },
        "id": "LIsUc-fmNy4C",
        "outputId": "37989149-7307-49b3-f470-342ae3a12d0f"
      },
      "execution_count": null,
      "outputs": [
        {
          "output_type": "execute_result",
          "data": {
            "text/plain": [
              "(143, 30)"
            ]
          },
          "metadata": {},
          "execution_count": 18
        }
      ]
    },
    {
      "cell_type": "code",
      "source": [
        "classe_test.shape"
      ],
      "metadata": {
        "id": "v8O-xbaxN2_3",
        "outputId": "813976ff-d093-4d63-8e93-302e9c411dbd",
        "colab": {
          "base_uri": "https://localhost:8080/"
        }
      },
      "execution_count": null,
      "outputs": [
        {
          "output_type": "execute_result",
          "data": {
            "text/plain": [
              "(143, 1)"
            ]
          },
          "metadata": {},
          "execution_count": 19
        }
      ]
    },
    {
      "cell_type": "markdown",
      "source": [
        "##Transforming The Data Into Tensors"
      ],
      "metadata": {
        "id": "y4SNUbAA7meZ"
      }
    },
    {
      "cell_type": "code",
      "source": [
        "type(previsores_train)"
      ],
      "metadata": {
        "colab": {
          "base_uri": "https://localhost:8080/",
          "height": 203
        },
        "id": "ziiulPWg7tOA",
        "outputId": "30d29b1a-a5ce-4b33-e18c-52be791542c3"
      },
      "execution_count": null,
      "outputs": [
        {
          "output_type": "execute_result",
          "data": {
            "text/plain": [
              "pandas.core.frame.DataFrame"
            ],
            "text/html": [
              "<div style=\"max-width:800px; border: 1px solid var(--colab-border-color);\"><style>\n",
              "      pre.function-repr-contents {\n",
              "        overflow-x: auto;\n",
              "        padding: 8px 12px;\n",
              "        max-height: 500px;\n",
              "      }\n",
              "\n",
              "      pre.function-repr-contents.function-repr-contents-collapsed {\n",
              "        cursor: pointer;\n",
              "        max-height: 100px;\n",
              "      }\n",
              "    </style>\n",
              "    <pre style=\"white-space: initial; background:\n",
              "         var(--colab-secondary-surface-color); padding: 8px 12px;\n",
              "         border-bottom: 1px solid var(--colab-border-color);\"><b>pandas.core.frame.DataFrame</b><br/>def __init__(data=None, index: Axes | None=None, columns: Axes | None=None, dtype: Dtype | None=None, copy: bool | None=None) -&gt; None</pre><pre class=\"function-repr-contents function-repr-contents-collapsed\" style=\"\"><a class=\"filepath\" style=\"display:none\" href=\"#\">/usr/local/lib/python3.10/dist-packages/pandas/core/frame.py</a>Two-dimensional, size-mutable, potentially heterogeneous tabular data.\n",
              "\n",
              "Data structure also contains labeled axes (rows and columns).\n",
              "Arithmetic operations align on both row and column labels. Can be\n",
              "thought of as a dict-like container for Series objects. The primary\n",
              "pandas data structure.\n",
              "\n",
              "Parameters\n",
              "----------\n",
              "data : ndarray (structured or homogeneous), Iterable, dict, or DataFrame\n",
              "    Dict can contain Series, arrays, constants, dataclass or list-like objects. If\n",
              "    data is a dict, column order follows insertion-order. If a dict contains Series\n",
              "    which have an index defined, it is aligned by its index. This alignment also\n",
              "    occurs if data is a Series or a DataFrame itself. Alignment is done on\n",
              "    Series/DataFrame inputs.\n",
              "\n",
              "    If data is a list of dicts, column order follows insertion-order.\n",
              "\n",
              "index : Index or array-like\n",
              "    Index to use for resulting frame. Will default to RangeIndex if\n",
              "    no indexing information part of input data and no index provided.\n",
              "columns : Index or array-like\n",
              "    Column labels to use for resulting frame when data does not have them,\n",
              "    defaulting to RangeIndex(0, 1, 2, ..., n). If data contains column labels,\n",
              "    will perform column selection instead.\n",
              "dtype : dtype, default None\n",
              "    Data type to force. Only a single dtype is allowed. If None, infer.\n",
              "copy : bool or None, default None\n",
              "    Copy data from inputs.\n",
              "    For dict data, the default of None behaves like ``copy=True``.  For DataFrame\n",
              "    or 2d ndarray input, the default of None behaves like ``copy=False``.\n",
              "    If data is a dict containing one or more Series (possibly of different dtypes),\n",
              "    ``copy=False`` will ensure that these inputs are not copied.\n",
              "\n",
              "    .. versionchanged:: 1.3.0\n",
              "\n",
              "See Also\n",
              "--------\n",
              "DataFrame.from_records : Constructor from tuples, also record arrays.\n",
              "DataFrame.from_dict : From dicts of Series, arrays, or dicts.\n",
              "read_csv : Read a comma-separated values (csv) file into DataFrame.\n",
              "read_table : Read general delimited file into DataFrame.\n",
              "read_clipboard : Read text from clipboard into DataFrame.\n",
              "\n",
              "Notes\n",
              "-----\n",
              "Please reference the :ref:`User Guide &lt;basics.dataframe&gt;` for more information.\n",
              "\n",
              "Examples\n",
              "--------\n",
              "Constructing DataFrame from a dictionary.\n",
              "\n",
              "&gt;&gt;&gt; d = {&#x27;col1&#x27;: [1, 2], &#x27;col2&#x27;: [3, 4]}\n",
              "&gt;&gt;&gt; df = pd.DataFrame(data=d)\n",
              "&gt;&gt;&gt; df\n",
              "   col1  col2\n",
              "0     1     3\n",
              "1     2     4\n",
              "\n",
              "Notice that the inferred dtype is int64.\n",
              "\n",
              "&gt;&gt;&gt; df.dtypes\n",
              "col1    int64\n",
              "col2    int64\n",
              "dtype: object\n",
              "\n",
              "To enforce a single dtype:\n",
              "\n",
              "&gt;&gt;&gt; df = pd.DataFrame(data=d, dtype=np.int8)\n",
              "&gt;&gt;&gt; df.dtypes\n",
              "col1    int8\n",
              "col2    int8\n",
              "dtype: object\n",
              "\n",
              "Constructing DataFrame from a dictionary including Series:\n",
              "\n",
              "&gt;&gt;&gt; d = {&#x27;col1&#x27;: [0, 1, 2, 3], &#x27;col2&#x27;: pd.Series([2, 3], index=[2, 3])}\n",
              "&gt;&gt;&gt; pd.DataFrame(data=d, index=[0, 1, 2, 3])\n",
              "   col1  col2\n",
              "0     0   NaN\n",
              "1     1   NaN\n",
              "2     2   2.0\n",
              "3     3   3.0\n",
              "\n",
              "Constructing DataFrame from numpy ndarray:\n",
              "\n",
              "&gt;&gt;&gt; df2 = pd.DataFrame(np.array([[1, 2, 3], [4, 5, 6], [7, 8, 9]]),\n",
              "...                    columns=[&#x27;a&#x27;, &#x27;b&#x27;, &#x27;c&#x27;])\n",
              "&gt;&gt;&gt; df2\n",
              "   a  b  c\n",
              "0  1  2  3\n",
              "1  4  5  6\n",
              "2  7  8  9\n",
              "\n",
              "Constructing DataFrame from a numpy ndarray that has labeled columns:\n",
              "\n",
              "&gt;&gt;&gt; data = np.array([(1, 2, 3), (4, 5, 6), (7, 8, 9)],\n",
              "...                 dtype=[(&quot;a&quot;, &quot;i4&quot;), (&quot;b&quot;, &quot;i4&quot;), (&quot;c&quot;, &quot;i4&quot;)])\n",
              "&gt;&gt;&gt; df3 = pd.DataFrame(data, columns=[&#x27;c&#x27;, &#x27;a&#x27;])\n",
              "...\n",
              "&gt;&gt;&gt; df3\n",
              "   c  a\n",
              "0  3  1\n",
              "1  6  4\n",
              "2  9  7\n",
              "\n",
              "Constructing DataFrame from dataclass:\n",
              "\n",
              "&gt;&gt;&gt; from dataclasses import make_dataclass\n",
              "&gt;&gt;&gt; Point = make_dataclass(&quot;Point&quot;, [(&quot;x&quot;, int), (&quot;y&quot;, int)])\n",
              "&gt;&gt;&gt; pd.DataFrame([Point(0, 0), Point(0, 3), Point(2, 3)])\n",
              "   x  y\n",
              "0  0  0\n",
              "1  0  3\n",
              "2  2  3\n",
              "\n",
              "Constructing DataFrame from Series/DataFrame:\n",
              "\n",
              "&gt;&gt;&gt; ser = pd.Series([1, 2, 3], index=[&quot;a&quot;, &quot;b&quot;, &quot;c&quot;])\n",
              "&gt;&gt;&gt; df = pd.DataFrame(data=ser, index=[&quot;a&quot;, &quot;c&quot;])\n",
              "&gt;&gt;&gt; df\n",
              "   0\n",
              "a  1\n",
              "c  3\n",
              "\n",
              "&gt;&gt;&gt; df1 = pd.DataFrame([1, 2, 3], index=[&quot;a&quot;, &quot;b&quot;, &quot;c&quot;], columns=[&quot;x&quot;])\n",
              "&gt;&gt;&gt; df2 = pd.DataFrame(data=df1, index=[&quot;a&quot;, &quot;c&quot;])\n",
              "&gt;&gt;&gt; df2\n",
              "   x\n",
              "a  1\n",
              "c  3</pre>\n",
              "      <script>\n",
              "      if (google.colab.kernel.accessAllowed && google.colab.files && google.colab.files.view) {\n",
              "        for (const element of document.querySelectorAll('.filepath')) {\n",
              "          element.style.display = 'block'\n",
              "          element.onclick = (event) => {\n",
              "            event.preventDefault();\n",
              "            event.stopPropagation();\n",
              "            google.colab.files.view(element.textContent, 490);\n",
              "          };\n",
              "        }\n",
              "      }\n",
              "      for (const element of document.querySelectorAll('.function-repr-contents')) {\n",
              "        element.onclick = (event) => {\n",
              "          event.preventDefault();\n",
              "          event.stopPropagation();\n",
              "          element.classList.toggle('function-repr-contents-collapsed');\n",
              "        };\n",
              "      }\n",
              "      </script>\n",
              "      </div>"
            ]
          },
          "metadata": {},
          "execution_count": 20
        }
      ]
    },
    {
      "cell_type": "code",
      "source": [
        "type(np.array(previsores_train))"
      ],
      "metadata": {
        "colab": {
          "base_uri": "https://localhost:8080/"
        },
        "id": "divZi-Dt7y6G",
        "outputId": "e0de9a2f-774b-4060-ac65-1617ee2586f6"
      },
      "execution_count": null,
      "outputs": [
        {
          "output_type": "execute_result",
          "data": {
            "text/plain": [
              "numpy.ndarray"
            ]
          },
          "metadata": {},
          "execution_count": 21
        }
      ]
    },
    {
      "cell_type": "code",
      "source": [
        "previsores_train = torch.tensor(np.array(previsores_train), dtype=torch.float)\n",
        "classe_train = torch.tensor(np.array(classe_train), dtype=torch.float)"
      ],
      "metadata": {
        "id": "GPuf1cE58YnU"
      },
      "execution_count": null,
      "outputs": []
    },
    {
      "cell_type": "code",
      "source": [
        "type(previsores_train)"
      ],
      "metadata": {
        "colab": {
          "base_uri": "https://localhost:8080/"
        },
        "id": "AiYKtVSi8s3A",
        "outputId": "a2e2e83c-dd88-49eb-863e-0e57e7aa962b"
      },
      "execution_count": null,
      "outputs": [
        {
          "output_type": "execute_result",
          "data": {
            "text/plain": [
              "torch.Tensor"
            ]
          },
          "metadata": {},
          "execution_count": 25
        }
      ]
    },
    {
      "cell_type": "code",
      "source": [
        "type(classe_train)"
      ],
      "metadata": {
        "colab": {
          "base_uri": "https://localhost:8080/"
        },
        "id": "IpGwElCS9BsZ",
        "outputId": "469753a5-da0a-411a-9d75-5a62891b41c0"
      },
      "execution_count": null,
      "outputs": [
        {
          "output_type": "execute_result",
          "data": {
            "text/plain": [
              "torch.Tensor"
            ]
          },
          "metadata": {},
          "execution_count": 26
        }
      ]
    },
    {
      "cell_type": "code",
      "source": [
        "dataset = torch.utils.data.TensorDataset(previsores_train, classe_train)"
      ],
      "metadata": {
        "id": "Az8OJNd89ENZ"
      },
      "execution_count": null,
      "outputs": []
    },
    {
      "cell_type": "code",
      "source": [
        "type(dataset)"
      ],
      "metadata": {
        "colab": {
          "base_uri": "https://localhost:8080/",
          "height": 186
        },
        "id": "8wX5cbXy9Qmy",
        "outputId": "c112cade-80f7-4645-e5fd-800976f56a8a"
      },
      "execution_count": null,
      "outputs": [
        {
          "output_type": "execute_result",
          "data": {
            "text/plain": [
              "torch.utils.data.dataset.TensorDataset"
            ],
            "text/html": [
              "<div style=\"max-width:800px; border: 1px solid var(--colab-border-color);\"><style>\n",
              "      pre.function-repr-contents {\n",
              "        overflow-x: auto;\n",
              "        padding: 8px 12px;\n",
              "        max-height: 500px;\n",
              "      }\n",
              "\n",
              "      pre.function-repr-contents.function-repr-contents-collapsed {\n",
              "        cursor: pointer;\n",
              "        max-height: 100px;\n",
              "      }\n",
              "    </style>\n",
              "    <pre style=\"white-space: initial; background:\n",
              "         var(--colab-secondary-surface-color); padding: 8px 12px;\n",
              "         border-bottom: 1px solid var(--colab-border-color);\"><b>torch.utils.data.dataset.TensorDataset</b><br/>def __init__(*tensors: Tensor) -&gt; None</pre><pre class=\"function-repr-contents function-repr-contents-collapsed\" style=\"\"><a class=\"filepath\" style=\"display:none\" href=\"#\">/usr/local/lib/python3.10/dist-packages/torch/utils/data/dataset.py</a>Dataset wrapping tensors.\n",
              "\n",
              "Each sample will be retrieved by indexing tensors along the first dimension.\n",
              "\n",
              "Args:\n",
              "    *tensors (Tensor): tensors that have the same size of the first dimension.</pre>\n",
              "      <script>\n",
              "      if (google.colab.kernel.accessAllowed && google.colab.files && google.colab.files.view) {\n",
              "        for (const element of document.querySelectorAll('.filepath')) {\n",
              "          element.style.display = 'block'\n",
              "          element.onclick = (event) => {\n",
              "            event.preventDefault();\n",
              "            event.stopPropagation();\n",
              "            google.colab.files.view(element.textContent, 191);\n",
              "          };\n",
              "        }\n",
              "      }\n",
              "      for (const element of document.querySelectorAll('.function-repr-contents')) {\n",
              "        element.onclick = (event) => {\n",
              "          event.preventDefault();\n",
              "          event.stopPropagation();\n",
              "          element.classList.toggle('function-repr-contents-collapsed');\n",
              "        };\n",
              "      }\n",
              "      </script>\n",
              "      </div>"
            ]
          },
          "metadata": {},
          "execution_count": 28
        }
      ]
    },
    {
      "cell_type": "code",
      "source": [
        "train_loader = torch.utils.data.DataLoader(dataset, batch_size=10, shuffle=True)"
      ],
      "metadata": {
        "id": "m7aHyhNE9W2R"
      },
      "execution_count": null,
      "outputs": []
    },
    {
      "cell_type": "markdown",
      "source": [
        "##Model Structuring"
      ],
      "metadata": {
        "id": "158cjDwO97kZ"
      }
    },
    {
      "cell_type": "code",
      "source": [
        "classificador = nn.Sequential(\n",
        "      nn.Linear(in_features=30, out_features=16),\n",
        "      nn.ReLU(),\n",
        "      nn.Linear(16, 16),\n",
        "      nn.ReLU(),\n",
        "      nn.Linear(16,1),\n",
        "      nn.Sigmoid()\n",
        "  )"
      ],
      "metadata": {
        "id": "s08-Hg5a-LQ6"
      },
      "execution_count": null,
      "outputs": []
    },
    {
      "cell_type": "code",
      "source": [
        "classificador.parameters"
      ],
      "metadata": {
        "colab": {
          "base_uri": "https://localhost:8080/",
          "height": 186
        },
        "id": "_XM892tc_NOK",
        "outputId": "1940068f-9637-482b-e2f3-64814130ee04"
      },
      "execution_count": null,
      "outputs": [
        {
          "output_type": "execute_result",
          "data": {
            "text/plain": [
              "<bound method Module.parameters of Sequential(\n",
              "  (0): Linear(in_features=30, out_features=16, bias=True)\n",
              "  (1): ReLU()\n",
              "  (2): Linear(in_features=16, out_features=16, bias=True)\n",
              "  (3): ReLU()\n",
              "  (4): Linear(in_features=16, out_features=1, bias=True)\n",
              "  (5): Sigmoid()\n",
              ")>"
            ],
            "text/html": [
              "<div style=\"max-width:800px; border: 1px solid var(--colab-border-color);\"><style>\n",
              "      pre.function-repr-contents {\n",
              "        overflow-x: auto;\n",
              "        padding: 8px 12px;\n",
              "        max-height: 500px;\n",
              "      }\n",
              "\n",
              "      pre.function-repr-contents.function-repr-contents-collapsed {\n",
              "        cursor: pointer;\n",
              "        max-height: 100px;\n",
              "      }\n",
              "    </style>\n",
              "    <pre style=\"white-space: initial; background:\n",
              "         var(--colab-secondary-surface-color); padding: 8px 12px;\n",
              "         border-bottom: 1px solid var(--colab-border-color);\"><b>torch.nn.modules.module.Module.parameters</b><br/>def parameters(recurse: bool=True) -&gt; Iterator[Parameter]</pre><pre class=\"function-repr-contents function-repr-contents-collapsed\" style=\"\"><a class=\"filepath\" style=\"display:none\" href=\"#\">/usr/local/lib/python3.10/dist-packages/torch/nn/modules/module.py</a>Return an iterator over module parameters.\n",
              "\n",
              "This is typically passed to an optimizer.\n",
              "\n",
              "Args:\n",
              "    recurse (bool): if True, then yields parameters of this module\n",
              "        and all submodules. Otherwise, yields only parameters that\n",
              "        are direct members of this module.\n",
              "\n",
              "Yields:\n",
              "    Parameter: module parameter\n",
              "\n",
              "Example::\n",
              "\n",
              "    &gt;&gt;&gt; # xdoctest: +SKIP(&quot;undefined vars&quot;)\n",
              "    &gt;&gt;&gt; for param in model.parameters():\n",
              "    &gt;&gt;&gt;     print(type(param), param.size())\n",
              "    &lt;class &#x27;torch.Tensor&#x27;&gt; (20L,)\n",
              "    &lt;class &#x27;torch.Tensor&#x27;&gt; (20L, 1L, 5L, 5L)</pre>\n",
              "      <script>\n",
              "      if (google.colab.kernel.accessAllowed && google.colab.files && google.colab.files.view) {\n",
              "        for (const element of document.querySelectorAll('.filepath')) {\n",
              "          element.style.display = 'block'\n",
              "          element.onclick = (event) => {\n",
              "            event.preventDefault();\n",
              "            event.stopPropagation();\n",
              "            google.colab.files.view(element.textContent, 2207);\n",
              "          };\n",
              "        }\n",
              "      }\n",
              "      for (const element of document.querySelectorAll('.function-repr-contents')) {\n",
              "        element.onclick = (event) => {\n",
              "          event.preventDefault();\n",
              "          event.stopPropagation();\n",
              "          element.classList.toggle('function-repr-contents-collapsed');\n",
              "        };\n",
              "      }\n",
              "      </script>\n",
              "      </div>"
            ]
          },
          "metadata": {},
          "execution_count": 34
        }
      ]
    },
    {
      "cell_type": "code",
      "source": [
        "criterion = nn.BCELoss()"
      ],
      "metadata": {
        "id": "qjgC_JDR_f1K"
      },
      "execution_count": null,
      "outputs": []
    },
    {
      "cell_type": "code",
      "source": [
        "optimizer = torch.optim.Adam(classificador.parameters(), lr=0.001, weight_decay=0.0001)"
      ],
      "metadata": {
        "id": "gXvdz-bF_lJI"
      },
      "execution_count": null,
      "outputs": []
    },
    {
      "cell_type": "markdown",
      "source": [
        "##Model Training"
      ],
      "metadata": {
        "id": "g_9-SQmV_8UZ"
      }
    },
    {
      "cell_type": "code",
      "source": [
        "for epoch in range(100):\n",
        "  running_loss = 0.\n",
        "\n",
        "  for data in train_loader:\n",
        "    inputs, labels = data\n",
        "    optimizer.zero_grad()\n",
        "\n",
        "    outputs =classificador(inputs)\n",
        "    loss = criterion(outputs, labels)\n",
        "    loss.backward()\n",
        "    optimizer.step()\n",
        "\n",
        "    running_loss += loss.item()\n",
        "  print('época %3d: perda %.5f' % (epoch+1, running_loss/len(train_loader)))"
      ],
      "metadata": {
        "colab": {
          "base_uri": "https://localhost:8080/"
        },
        "id": "6QsR6f_xAAx6",
        "outputId": "da6a3bce-ecf9-4a75-8276-e3a68a296b9c"
      },
      "execution_count": null,
      "outputs": [
        {
          "output_type": "stream",
          "name": "stdout",
          "text": [
            "época   1: perda 10.77345\n",
            "época   2: perda 6.62567\n",
            "época   3: perda 1.89806\n",
            "época   4: perda 1.59329\n",
            "época   5: perda 1.32931\n",
            "época   6: perda 0.71823\n",
            "época   7: perda 0.59802\n",
            "época   8: perda 0.57102\n",
            "época   9: perda 0.35956\n",
            "época  10: perda 0.39259\n",
            "época  11: perda 0.55423\n",
            "época  12: perda 0.55269\n",
            "época  13: perda 0.32078\n",
            "época  14: perda 0.32962\n",
            "época  15: perda 0.35974\n",
            "época  16: perda 0.31069\n",
            "época  17: perda 0.24535\n",
            "época  18: perda 0.27538\n",
            "época  19: perda 0.27022\n",
            "época  20: perda 0.27187\n",
            "época  21: perda 0.25322\n",
            "época  22: perda 0.25163\n",
            "época  23: perda 0.46141\n",
            "época  24: perda 0.26000\n",
            "época  25: perda 0.25707\n",
            "época  26: perda 0.25918\n",
            "época  27: perda 0.26340\n",
            "época  28: perda 0.24367\n",
            "época  29: perda 0.19483\n",
            "época  30: perda 0.19469\n",
            "época  31: perda 0.21671\n",
            "época  32: perda 0.20377\n",
            "época  33: perda 0.20521\n",
            "época  34: perda 0.20883\n",
            "época  35: perda 0.18433\n",
            "época  36: perda 0.18320\n",
            "época  37: perda 0.22316\n",
            "época  38: perda 0.22011\n",
            "época  39: perda 0.19368\n",
            "época  40: perda 0.17976\n",
            "época  41: perda 0.20144\n",
            "época  42: perda 0.17171\n",
            "época  43: perda 0.18353\n",
            "época  44: perda 0.17587\n",
            "época  45: perda 0.19082\n",
            "época  46: perda 0.16834\n",
            "época  47: perda 0.19510\n",
            "época  48: perda 0.18548\n",
            "época  49: perda 0.18333\n",
            "época  50: perda 0.16528\n",
            "época  51: perda 0.16449\n",
            "época  52: perda 0.17075\n",
            "época  53: perda 0.15390\n",
            "época  54: perda 0.16042\n",
            "época  55: perda 0.20488\n",
            "época  56: perda 0.22195\n",
            "época  57: perda 0.16576\n",
            "época  58: perda 0.16662\n",
            "época  59: perda 0.18121\n",
            "época  60: perda 0.16403\n",
            "época  61: perda 0.14902\n",
            "época  62: perda 0.13966\n",
            "época  63: perda 0.14557\n",
            "época  64: perda 0.13916\n",
            "época  65: perda 0.18241\n",
            "época  66: perda 0.19862\n",
            "época  67: perda 0.23367\n",
            "época  68: perda 0.14657\n",
            "época  69: perda 0.14026\n",
            "época  70: perda 0.16024\n",
            "época  71: perda 0.18363\n",
            "época  72: perda 0.15738\n",
            "época  73: perda 0.13719\n",
            "época  74: perda 0.12955\n",
            "época  75: perda 0.13727\n",
            "época  76: perda 0.14394\n",
            "época  77: perda 0.14904\n",
            "época  78: perda 0.13147\n",
            "época  79: perda 0.13958\n",
            "época  80: perda 0.13326\n",
            "época  81: perda 0.12516\n",
            "época  82: perda 0.15250\n",
            "época  83: perda 0.18071\n",
            "época  84: perda 0.13463\n",
            "época  85: perda 0.14898\n",
            "época  86: perda 0.19373\n",
            "época  87: perda 0.17018\n",
            "época  88: perda 0.15700\n",
            "época  89: perda 0.18224\n",
            "época  90: perda 0.18422\n",
            "época  91: perda 0.20437\n",
            "época  92: perda 0.12121\n",
            "época  93: perda 0.12755\n",
            "época  94: perda 0.12235\n",
            "época  95: perda 0.14743\n",
            "época  96: perda 0.19317\n",
            "época  97: perda 0.19124\n",
            "época  98: perda 0.16455\n",
            "época  99: perda 0.12722\n",
            "época 100: perda 0.14799\n"
          ]
        }
      ]
    },
    {
      "cell_type": "markdown",
      "source": [
        "##Weights Visualization"
      ],
      "metadata": {
        "id": "krVasDLXGMkh"
      }
    },
    {
      "cell_type": "code",
      "source": [
        "params = list(classificador.parameters())"
      ],
      "metadata": {
        "id": "tIMQMLS0GVUc"
      },
      "execution_count": null,
      "outputs": []
    },
    {
      "cell_type": "code",
      "source": [
        "params"
      ],
      "metadata": {
        "colab": {
          "base_uri": "https://localhost:8080/"
        },
        "id": "iYR984kFGd1A",
        "outputId": "5df01ab3-e80d-4dc8-90ce-805bc2e3acf0"
      },
      "execution_count": null,
      "outputs": [
        {
          "output_type": "execute_result",
          "data": {
            "text/plain": [
              "[Parameter containing:\n",
              " tensor([[-1.2691e-01, -6.8145e-02, -1.4388e-01,  4.8714e-02, -1.5032e-01,\n",
              "           6.7362e-02, -1.4546e-01, -1.5058e-01, -2.5787e-01,  4.1507e-01,\n",
              "           1.8589e-02,  5.0616e-03, -1.1239e-01, -6.9343e-02,  2.3423e-03,\n",
              "          -3.4580e-01, -2.3883e-01,  6.3986e-02,  3.4740e-02, -2.5572e-04,\n",
              "           1.4218e-01, -6.7682e-02, -1.6082e-02,  1.4359e-01,  1.5469e-01,\n",
              "           6.1422e-02, -2.0164e-01,  3.9941e-02,  4.2040e-01,  1.7568e-01],\n",
              "         [ 1.8580e-01,  2.2519e-01,  2.9253e-01,  8.9745e-02, -7.0512e-02,\n",
              "          -1.4073e-01, -4.3927e-02, -9.6294e-02, -4.0644e-02,  2.8109e-01,\n",
              "          -4.1117e-02, -1.1178e-01, -4.2997e-03,  1.8198e-01, -5.0714e-03,\n",
              "          -8.9985e-02, -1.7268e-02,  2.0036e-01,  1.8109e-01, -1.2496e-02,\n",
              "           9.0950e-02,  8.0253e-02,  1.9381e-01,  1.0279e-04, -2.7417e-02,\n",
              "          -2.2569e-01, -2.2710e-01, -1.8728e-02, -7.6951e-02, -1.5178e-01],\n",
              "         [ 1.3042e-02,  1.1286e-02, -2.4358e-01, -1.0810e-01, -3.0802e-02,\n",
              "           1.3639e-01,  6.4366e-02,  3.6765e-02, -2.1180e-02,  3.7993e-01,\n",
              "           1.8785e-01,  1.2001e-01, -1.5442e-01,  8.5722e-03, -4.7552e-04,\n",
              "          -2.9329e-01,  7.6241e-02,  3.7099e-03,  3.5354e-01, -2.7011e-04,\n",
              "           6.5541e-02, -1.4137e-01, -2.5874e-02,  1.3349e-02, -2.8780e-01,\n",
              "          -1.2873e-01, -1.3530e-01,  1.4745e-01,  1.1428e-01, -2.4580e-02],\n",
              "         [-3.7223e-01,  3.0843e-02, -1.5592e-01,  9.0289e-02, -2.0324e-01,\n",
              "          -5.1455e-02,  3.6125e-02,  5.0933e-02,  1.2151e-01, -1.8606e-01,\n",
              "           1.7524e-01, -1.4301e-01,  4.1051e-02, -8.6713e-02,  2.6995e-03,\n",
              "           2.4432e-02,  1.0939e-02, -1.4533e-02,  1.1233e-01,  6.4163e-03,\n",
              "           1.0439e-01, -1.7565e-01, -8.4284e-02,  1.0102e-02,  3.0631e-01,\n",
              "           9.0108e-02, -3.3242e-02,  2.8389e-01,  1.8046e-01,  4.0419e-01],\n",
              "         [-4.0660e-01, -8.6032e-02, -1.0755e-01, -1.1780e-01,  4.8895e-01,\n",
              "          -9.3674e-02,  1.2296e-01, -3.4132e-01, -2.5599e-01,  3.9628e-01,\n",
              "          -6.4542e-02,  3.1679e-02, -2.1056e-02,  1.2296e-01,  2.1522e-02,\n",
              "          -4.1502e-01, -2.2214e-01, -2.6142e-01,  3.1585e-01,  2.9275e-01,\n",
              "          -2.7522e-01, -7.8651e-02, -1.5089e-01,  2.5168e-01, -5.9190e-02,\n",
              "          -1.1985e-01, -3.4054e-01, -1.2450e-01, -1.0628e-01,  4.5567e-01],\n",
              "         [ 2.9180e-02,  6.1619e-02,  1.1155e-01,  1.0283e-01,  1.2217e-01,\n",
              "           3.5925e-01, -1.2175e-01,  1.6197e-01,  5.8327e-03, -1.6898e-01,\n",
              "           2.0902e-01,  1.5402e-01, -1.0416e-01,  1.4873e-01,  2.7241e-03,\n",
              "           4.6637e-01,  1.6691e-01,  4.1026e-01, -1.7803e-01, -1.2006e-01,\n",
              "          -5.6975e-03, -1.1916e-01,  4.4853e-02, -1.5059e-02, -1.7124e-01,\n",
              "          -1.1346e-01,  1.6390e-01, -4.2529e-02,  6.2193e-02, -2.2767e-01],\n",
              "         [ 1.9130e-03,  1.5768e-01,  2.7353e-01, -1.5543e-01, -1.2658e-01,\n",
              "          -2.7832e-01, -6.8356e-02,  2.0926e-02,  2.5377e-01,  2.6760e-02,\n",
              "           9.6263e-03, -1.5774e-01,  5.3720e-02,  1.2295e-01, -2.6463e-04,\n",
              "          -9.3226e-03,  5.1864e-04,  2.4345e-03,  9.7448e-03, -1.4345e-03,\n",
              "          -5.3795e-02,  9.4787e-02,  1.6817e-01, -1.3500e-01, -4.5199e-02,\n",
              "           1.8455e-01,  3.7327e-01, -1.1181e-01, -5.8661e-02,  9.9345e-02],\n",
              "         [-2.8536e-01, -3.6156e-02, -1.3161e-01, -1.6163e-01,  3.6791e-01,\n",
              "           6.0522e-02, -2.1374e-02, -2.0731e-02, -1.7318e-01, -4.2000e-02,\n",
              "          -8.9815e-02, -8.0347e-02,  6.1561e-02,  1.2131e-01,  3.4327e-03,\n",
              "           1.3928e-02, -1.4472e-01,  8.5896e-03, -2.3931e-01,  4.7606e-03,\n",
              "          -2.0577e-01,  6.1538e-02, -2.8849e-01,  1.0647e-01, -3.3214e-02,\n",
              "          -3.7068e-01,  5.0921e-02,  8.5539e-02, -3.7438e-03,  8.0095e-02],\n",
              "         [ 3.6760e-02, -1.4097e-01, -3.8734e-01, -4.5373e-02,  4.3234e-01,\n",
              "           1.7851e-01, -4.8292e-01, -1.0762e-01,  1.1830e-01, -6.4129e-02,\n",
              "           1.6091e-01, -7.7441e-02,  1.1297e-01,  3.7159e-02,  5.5447e-03,\n",
              "           6.9584e-02, -1.0575e-01, -3.1865e-01,  4.6075e-01, -4.2366e-02,\n",
              "          -3.6238e-01,  8.0759e-04, -2.9492e-01,  2.1924e-01,  9.7605e-02,\n",
              "           2.2872e-01, -8.8768e-02,  2.5892e-01,  1.7555e-01,  3.8065e-01],\n",
              "         [-1.3344e-02,  1.6897e-01,  3.0936e-01,  2.0510e-02, -3.1786e-01,\n",
              "          -1.9703e-01, -8.5828e-02,  1.0204e-01,  3.7231e-02,  1.4446e-01,\n",
              "           1.0148e-01, -1.7643e-01,  1.5525e-01, -9.7258e-02, -1.0099e-02,\n",
              "           3.3977e-02,  2.2129e-01,  1.1206e-01,  1.1579e-01, -2.9695e-01,\n",
              "           1.8299e-01, -1.2935e-01,  3.2764e-01, -8.0199e-02,  4.7487e-02,\n",
              "          -3.2112e-03,  1.1147e-02, -9.4978e-02,  5.1857e-02, -1.8602e-01],\n",
              "         [-5.2946e-02,  3.3449e-03,  5.9605e-02,  2.2459e-02, -4.8557e-02,\n",
              "          -1.7446e-01, -1.4823e-01, -1.1418e-01,  2.0333e-01, -2.1335e-01,\n",
              "          -1.5120e-01,  5.9149e-02, -1.2325e-01,  1.7220e-01, -7.2431e-03,\n",
              "           1.5709e-02, -4.1344e-02, -3.4989e-01, -3.5029e-01, -3.3703e-03,\n",
              "          -1.6104e-01, -2.2504e-02,  6.4444e-02,  1.2210e-01,  3.6567e-01,\n",
              "          -1.7488e-01,  3.6791e-01,  1.6295e-01, -5.8115e-02,  3.7278e-03],\n",
              "         [ 6.4762e-02,  2.6129e-02,  1.4262e-01,  1.3905e-01, -5.4928e-02,\n",
              "           1.7671e-01, -1.3862e-01,  1.7150e-01,  2.8382e-01, -2.0345e-01,\n",
              "           5.6424e-02,  7.6854e-02, -1.5817e-02, -2.1171e-01, -1.3689e-02,\n",
              "           4.6938e-01,  2.5540e-02,  3.5033e-01, -1.8243e-01, -2.4087e-01,\n",
              "           1.9033e-01, -1.4786e-02,  3.1229e-01, -1.4244e-01, -1.9918e-01,\n",
              "           2.0580e-01,  1.5262e-01,  8.5135e-02,  1.1164e-01, -4.9073e-01],\n",
              "         [ 1.2172e-01,  2.1626e-02, -2.7000e-01, -4.7226e-02,  1.6503e-01,\n",
              "           2.3555e-01,  2.6222e-01,  2.9910e-02, -8.2592e-02, -2.3539e-01,\n",
              "           1.1349e-01, -4.4792e-02,  1.0573e-01,  9.4688e-02,  3.0772e-03,\n",
              "          -5.3594e-02,  8.1792e-03, -2.1817e-02, -3.3871e-01,  2.0408e-01,\n",
              "           6.5337e-02,  1.1387e-01, -3.9577e-02,  4.7965e-02, -6.8012e-03,\n",
              "           8.5737e-02, -1.0718e-01, -2.4887e-01,  4.7301e-02,  9.4174e-02],\n",
              "         [ 9.6408e-02, -7.1930e-02, -1.0066e-01,  2.0346e-03,  4.4739e-02,\n",
              "           3.7613e-02, -6.9459e-02,  9.0497e-02, -1.0258e-02, -2.4328e-01,\n",
              "           1.7918e-01, -8.5911e-02, -1.5931e-01,  1.2736e-01, -7.8969e-04,\n",
              "           1.7971e-02,  1.7644e-01, -1.1526e-01,  4.2831e-01,  1.8185e-03,\n",
              "           1.1907e-01,  7.3362e-03, -7.9872e-02,  1.4264e-01, -2.1211e-02,\n",
              "          -3.6570e-03, -9.3580e-02,  9.9366e-02,  1.5618e-01,  1.0122e-01],\n",
              "         [ 7.8238e-02, -2.0632e-02,  6.6276e-02, -1.4800e-01, -1.4620e-01,\n",
              "          -1.0036e-28,  6.9574e-40, -3.1618e-39, -8.5069e-11,  3.0576e-29,\n",
              "          -3.6722e-09, -8.8457e-03, -2.4843e-02, -5.9167e-02,  2.8342e-39,\n",
              "           1.4461e-39,  2.9164e-39, -3.9589e-39, -5.5731e-39,  6.9885e-40,\n",
              "           9.1056e-02,  1.0727e-01, -1.2366e-01, -1.8913e-01, -2.3840e-15,\n",
              "          -4.1288e-10,  3.9164e-10,  7.6684e-40, -8.8574e-07,  4.9089e-26],\n",
              "         [-1.4548e-02, -5.5283e-03, -1.8515e-02, -2.1756e-02,  1.5451e-02,\n",
              "          -1.7375e-03, -7.1841e-03, -3.4811e-04, -1.8397e-02, -3.6079e-02,\n",
              "          -2.7435e-02, -1.3664e-03, -1.7698e-02, -1.9791e-02, -9.7221e-41,\n",
              "           7.1577e-03, -8.8157e-25,  7.0409e-18,  1.3145e-03, -1.3556e-26,\n",
              "          -1.3892e-02, -3.3538e-03, -1.7156e-02, -1.9449e-02,  3.4258e-02,\n",
              "          -1.4599e-02, -2.6758e-02, -7.3865e-03, -4.8578e-02,  8.4851e-04]],\n",
              "        requires_grad=True),\n",
              " Parameter containing:\n",
              " tensor([-8.3489e-02,  2.8189e-01, -2.6278e-01, -2.5127e-01, -7.3967e-01,\n",
              "          2.0921e-01,  1.6407e-01, -2.7767e-01, -3.7241e-01,  4.6975e-01,\n",
              "         -2.3829e-01,  4.7244e-01, -3.3849e-01, -2.3293e-02, -1.0062e-03,\n",
              "         -2.4059e-04], requires_grad=True),\n",
              " Parameter containing:\n",
              " tensor([[-1.4592e-02, -1.8863e-02, -1.5894e-02,  8.1740e-02, -2.2773e-01,\n",
              "           7.9214e-04, -1.3072e-02,  6.3882e-39, -1.3776e-01, -2.0733e-01,\n",
              "          -2.1081e-01,  6.6155e-02,  1.6788e-01,  2.2010e-01,  5.0289e-02,\n",
              "          -8.3511e-03],\n",
              "         [ 7.3974e-02, -2.3323e-01,  5.6499e-02, -6.6342e-02,  1.3661e-02,\n",
              "           1.6150e-01,  5.6548e-39, -6.5102e-40,  3.3899e-02, -1.3559e-01,\n",
              "          -8.7172e-02, -6.9383e-02, -2.3319e-01,  2.4797e-01, -5.7970e-39,\n",
              "          -2.0266e-02],\n",
              "         [ 2.0775e-01, -3.9084e-02,  1.4757e-01,  1.5009e-01,  3.3842e-01,\n",
              "          -1.0753e-01, -2.6087e-02, -1.0426e-01,  2.4416e-01,  4.1897e-02,\n",
              "          -1.7376e-03, -2.7925e-02,  2.2540e-01,  7.9541e-02,  8.2060e-02,\n",
              "           2.4763e-02],\n",
              "         [-6.6157e-02,  6.0996e-02,  6.2920e-02, -1.9804e-01, -2.0118e-02,\n",
              "           4.6823e-02,  1.1352e-02, -4.0186e-02,  1.9119e-01,  9.2177e-02,\n",
              "          -3.4332e-01,  3.0565e-01,  1.5818e-01,  1.2085e-01,  1.2431e-01,\n",
              "          -1.9168e-02],\n",
              "         [ 7.0103e-02,  1.9325e-02, -6.3581e-02, -2.5998e-01,  3.5062e-02,\n",
              "          -3.8779e-01,  1.6398e-01,  2.1068e-01,  4.3592e-02,  2.2159e-02,\n",
              "          -1.6389e-01,  7.2813e-02, -6.2874e-02, -1.4826e-01, -1.5982e-01,\n",
              "           1.1347e-02],\n",
              "         [ 1.5307e-01, -1.3039e-01, -7.9019e-02, -2.9280e-03, -2.1777e-01,\n",
              "           2.3055e-02,  1.2231e-01, -1.3762e-01,  8.4547e-02,  4.4642e-02,\n",
              "          -4.2817e-02,  1.3099e-01, -2.6358e-01, -1.9614e-02,  5.0935e-02,\n",
              "           2.2319e-03],\n",
              "         [-1.3105e-01, -5.6637e-02,  4.5846e-02, -2.8812e-02,  1.6340e-01,\n",
              "           1.4126e-01,  7.8540e-02, -1.5752e-01, -1.2966e-01, -2.1603e-01,\n",
              "           9.3641e-02,  4.0234e-03,  2.0757e-01,  2.2224e-01,  6.8045e-02,\n",
              "           2.3066e-02],\n",
              "         [ 1.0887e-01, -1.3671e-02, -2.4901e-01, -4.1049e-02, -2.8098e-01,\n",
              "           1.3186e-01, -1.1409e-01, -1.9565e-01, -5.0138e-02,  1.1670e-01,\n",
              "           9.0310e-02,  9.3803e-02, -9.8995e-02, -2.1308e-01,  1.5939e-39,\n",
              "          -3.9277e-02],\n",
              "         [-1.2109e-01,  2.0016e-01, -1.9452e-01, -8.6519e-02,  1.7633e-01,\n",
              "           1.4061e-01,  1.1015e-01,  1.5881e-01, -1.0497e-01, -1.2544e-01,\n",
              "           8.6341e-02,  7.6896e-02, -5.1715e-02,  2.0777e-01, -1.2917e-01,\n",
              "          -2.6394e-02],\n",
              "         [ 1.9956e-01,  1.0901e-01, -1.6311e-01,  8.6187e-02, -1.0752e-01,\n",
              "           7.9976e-02,  1.6938e-01, -2.2514e-01, -1.2780e-01,  2.0701e-01,\n",
              "          -1.9316e-01, -3.3078e-03, -9.2103e-02, -2.7991e-02, -2.2646e-03,\n",
              "          -5.5323e-03],\n",
              "         [ 9.5090e-02, -4.1536e-02,  2.4757e-03, -3.8064e-01, -3.3199e-01,\n",
              "           2.5830e-03,  1.5550e-02,  7.7512e-02, -3.7112e-02, -5.8603e-02,\n",
              "           1.8810e-01,  1.7424e-02,  1.8360e-01,  1.8274e-01,  2.4721e-02,\n",
              "          -3.0007e-02],\n",
              "         [ 1.1727e-01, -6.7106e-03, -1.4971e-01,  1.3128e-01, -3.9276e-02,\n",
              "           1.9345e-01, -2.1223e-39, -7.0328e-39, -2.7323e-01, -8.7758e-02,\n",
              "          -6.3489e-02,  2.0568e-01, -7.3824e-02, -1.7371e-01,  5.5453e-03,\n",
              "           3.6051e-02],\n",
              "         [-3.2540e-02, -8.7508e-02,  4.6897e-02, -1.5969e-01, -1.1057e-01,\n",
              "          -3.5844e-01,  9.4577e-02,  2.5149e-02,  1.9131e-01, -5.8743e-02,\n",
              "           2.6947e-01,  1.0036e-01,  6.3040e-02, -1.1895e-01, -1.4072e-02,\n",
              "           2.1105e-02],\n",
              "         [-1.5856e-01,  2.3404e-01,  5.4043e-02, -8.1599e-02, -2.3710e-01,\n",
              "           8.4271e-02, -1.9422e-01, -5.7450e-02, -1.0270e-01,  5.2512e-02,\n",
              "           3.7653e-02,  1.0835e-01, -3.6970e-02,  1.4262e-02, -8.1186e-02,\n",
              "           3.3542e-02],\n",
              "         [-6.9252e-03,  2.3471e-01,  6.7805e-02, -4.0045e-02, -1.5123e-01,\n",
              "          -3.9084e-02, -1.5550e-01, -9.4499e-02, -1.9449e-01,  1.3343e-01,\n",
              "           2.0632e-01,  4.1268e-02, -1.0115e-01, -2.1757e-01, -5.9169e-39,\n",
              "           1.4326e-02],\n",
              "         [-5.5994e-08,  7.5810e-40, -2.1689e-07,  2.5044e-40, -9.8655e-11,\n",
              "          -3.7178e-05, -5.7980e-39,  1.1566e-39, -9.2103e-21, -4.9371e-22,\n",
              "          -2.9268e-08, -3.7447e-07,  8.9882e-30,  6.1183e-39, -5.1070e-39,\n",
              "          -1.9271e-39]], requires_grad=True),\n",
              " Parameter containing:\n",
              " tensor([-6.8299e-02, -1.9104e-01, -8.3042e-01,  5.0929e-01, -2.7601e-01,\n",
              "         -3.0421e-01, -1.2380e-01, -1.0063e-01,  8.8138e-02,  6.0236e-01,\n",
              "          3.4062e-01,  5.7968e-02, -5.8294e-01,  4.6420e-01,  3.7828e-01,\n",
              "          2.3147e-39], requires_grad=True),\n",
              " Parameter containing:\n",
              " tensor([[-0.1083, -0.1295, -0.1058,  0.1390, -0.0060, -0.0557, -0.1611, -0.0091,\n",
              "           0.1368,  0.2454,  0.0931,  0.1745, -0.0722,  0.2122,  0.1008, -0.0013]],\n",
              "        requires_grad=True),\n",
              " Parameter containing:\n",
              " tensor([0.7249], requires_grad=True)]"
            ]
          },
          "metadata": {},
          "execution_count": 41
        }
      ]
    },
    {
      "cell_type": "code",
      "source": [
        "pesos0 = params[0]\n",
        "pesos0.shape"
      ],
      "metadata": {
        "colab": {
          "base_uri": "https://localhost:8080/"
        },
        "id": "WDy3vKdzGgFw",
        "outputId": "1e749286-3dc3-4438-8cd7-06994e61a8df"
      },
      "execution_count": null,
      "outputs": [
        {
          "output_type": "execute_result",
          "data": {
            "text/plain": [
              "torch.Size([16, 30])"
            ]
          },
          "metadata": {},
          "execution_count": 43
        }
      ]
    },
    {
      "cell_type": "code",
      "source": [
        "print(pesos0)"
      ],
      "metadata": {
        "colab": {
          "base_uri": "https://localhost:8080/"
        },
        "id": "_FIJQTvhG5cg",
        "outputId": "ae069255-d4bb-4606-c4de-0cf6713d979b"
      },
      "execution_count": null,
      "outputs": [
        {
          "output_type": "stream",
          "name": "stdout",
          "text": [
            "Parameter containing:\n",
            "tensor([[-1.2691e-01, -6.8145e-02, -1.4388e-01,  4.8714e-02, -1.5032e-01,\n",
            "          6.7362e-02, -1.4546e-01, -1.5058e-01, -2.5787e-01,  4.1507e-01,\n",
            "          1.8589e-02,  5.0616e-03, -1.1239e-01, -6.9343e-02,  2.3423e-03,\n",
            "         -3.4580e-01, -2.3883e-01,  6.3986e-02,  3.4740e-02, -2.5572e-04,\n",
            "          1.4218e-01, -6.7682e-02, -1.6082e-02,  1.4359e-01,  1.5469e-01,\n",
            "          6.1422e-02, -2.0164e-01,  3.9941e-02,  4.2040e-01,  1.7568e-01],\n",
            "        [ 1.8580e-01,  2.2519e-01,  2.9253e-01,  8.9745e-02, -7.0512e-02,\n",
            "         -1.4073e-01, -4.3927e-02, -9.6294e-02, -4.0644e-02,  2.8109e-01,\n",
            "         -4.1117e-02, -1.1178e-01, -4.2997e-03,  1.8198e-01, -5.0714e-03,\n",
            "         -8.9985e-02, -1.7268e-02,  2.0036e-01,  1.8109e-01, -1.2496e-02,\n",
            "          9.0950e-02,  8.0253e-02,  1.9381e-01,  1.0279e-04, -2.7417e-02,\n",
            "         -2.2569e-01, -2.2710e-01, -1.8728e-02, -7.6951e-02, -1.5178e-01],\n",
            "        [ 1.3042e-02,  1.1286e-02, -2.4358e-01, -1.0810e-01, -3.0802e-02,\n",
            "          1.3639e-01,  6.4366e-02,  3.6765e-02, -2.1180e-02,  3.7993e-01,\n",
            "          1.8785e-01,  1.2001e-01, -1.5442e-01,  8.5722e-03, -4.7552e-04,\n",
            "         -2.9329e-01,  7.6241e-02,  3.7099e-03,  3.5354e-01, -2.7011e-04,\n",
            "          6.5541e-02, -1.4137e-01, -2.5874e-02,  1.3349e-02, -2.8780e-01,\n",
            "         -1.2873e-01, -1.3530e-01,  1.4745e-01,  1.1428e-01, -2.4580e-02],\n",
            "        [-3.7223e-01,  3.0843e-02, -1.5592e-01,  9.0289e-02, -2.0324e-01,\n",
            "         -5.1455e-02,  3.6125e-02,  5.0933e-02,  1.2151e-01, -1.8606e-01,\n",
            "          1.7524e-01, -1.4301e-01,  4.1051e-02, -8.6713e-02,  2.6995e-03,\n",
            "          2.4432e-02,  1.0939e-02, -1.4533e-02,  1.1233e-01,  6.4163e-03,\n",
            "          1.0439e-01, -1.7565e-01, -8.4284e-02,  1.0102e-02,  3.0631e-01,\n",
            "          9.0108e-02, -3.3242e-02,  2.8389e-01,  1.8046e-01,  4.0419e-01],\n",
            "        [-4.0660e-01, -8.6032e-02, -1.0755e-01, -1.1780e-01,  4.8895e-01,\n",
            "         -9.3674e-02,  1.2296e-01, -3.4132e-01, -2.5599e-01,  3.9628e-01,\n",
            "         -6.4542e-02,  3.1679e-02, -2.1056e-02,  1.2296e-01,  2.1522e-02,\n",
            "         -4.1502e-01, -2.2214e-01, -2.6142e-01,  3.1585e-01,  2.9275e-01,\n",
            "         -2.7522e-01, -7.8651e-02, -1.5089e-01,  2.5168e-01, -5.9190e-02,\n",
            "         -1.1985e-01, -3.4054e-01, -1.2450e-01, -1.0628e-01,  4.5567e-01],\n",
            "        [ 2.9180e-02,  6.1619e-02,  1.1155e-01,  1.0283e-01,  1.2217e-01,\n",
            "          3.5925e-01, -1.2175e-01,  1.6197e-01,  5.8327e-03, -1.6898e-01,\n",
            "          2.0902e-01,  1.5402e-01, -1.0416e-01,  1.4873e-01,  2.7241e-03,\n",
            "          4.6637e-01,  1.6691e-01,  4.1026e-01, -1.7803e-01, -1.2006e-01,\n",
            "         -5.6975e-03, -1.1916e-01,  4.4853e-02, -1.5059e-02, -1.7124e-01,\n",
            "         -1.1346e-01,  1.6390e-01, -4.2529e-02,  6.2193e-02, -2.2767e-01],\n",
            "        [ 1.9130e-03,  1.5768e-01,  2.7353e-01, -1.5543e-01, -1.2658e-01,\n",
            "         -2.7832e-01, -6.8356e-02,  2.0926e-02,  2.5377e-01,  2.6760e-02,\n",
            "          9.6263e-03, -1.5774e-01,  5.3720e-02,  1.2295e-01, -2.6463e-04,\n",
            "         -9.3226e-03,  5.1864e-04,  2.4345e-03,  9.7448e-03, -1.4345e-03,\n",
            "         -5.3795e-02,  9.4787e-02,  1.6817e-01, -1.3500e-01, -4.5199e-02,\n",
            "          1.8455e-01,  3.7327e-01, -1.1181e-01, -5.8661e-02,  9.9345e-02],\n",
            "        [-2.8536e-01, -3.6156e-02, -1.3161e-01, -1.6163e-01,  3.6791e-01,\n",
            "          6.0522e-02, -2.1374e-02, -2.0731e-02, -1.7318e-01, -4.2000e-02,\n",
            "         -8.9815e-02, -8.0347e-02,  6.1561e-02,  1.2131e-01,  3.4327e-03,\n",
            "          1.3928e-02, -1.4472e-01,  8.5896e-03, -2.3931e-01,  4.7606e-03,\n",
            "         -2.0577e-01,  6.1538e-02, -2.8849e-01,  1.0647e-01, -3.3214e-02,\n",
            "         -3.7068e-01,  5.0921e-02,  8.5539e-02, -3.7438e-03,  8.0095e-02],\n",
            "        [ 3.6760e-02, -1.4097e-01, -3.8734e-01, -4.5373e-02,  4.3234e-01,\n",
            "          1.7851e-01, -4.8292e-01, -1.0762e-01,  1.1830e-01, -6.4129e-02,\n",
            "          1.6091e-01, -7.7441e-02,  1.1297e-01,  3.7159e-02,  5.5447e-03,\n",
            "          6.9584e-02, -1.0575e-01, -3.1865e-01,  4.6075e-01, -4.2366e-02,\n",
            "         -3.6238e-01,  8.0759e-04, -2.9492e-01,  2.1924e-01,  9.7605e-02,\n",
            "          2.2872e-01, -8.8768e-02,  2.5892e-01,  1.7555e-01,  3.8065e-01],\n",
            "        [-1.3344e-02,  1.6897e-01,  3.0936e-01,  2.0510e-02, -3.1786e-01,\n",
            "         -1.9703e-01, -8.5828e-02,  1.0204e-01,  3.7231e-02,  1.4446e-01,\n",
            "          1.0148e-01, -1.7643e-01,  1.5525e-01, -9.7258e-02, -1.0099e-02,\n",
            "          3.3977e-02,  2.2129e-01,  1.1206e-01,  1.1579e-01, -2.9695e-01,\n",
            "          1.8299e-01, -1.2935e-01,  3.2764e-01, -8.0199e-02,  4.7487e-02,\n",
            "         -3.2112e-03,  1.1147e-02, -9.4978e-02,  5.1857e-02, -1.8602e-01],\n",
            "        [-5.2946e-02,  3.3449e-03,  5.9605e-02,  2.2459e-02, -4.8557e-02,\n",
            "         -1.7446e-01, -1.4823e-01, -1.1418e-01,  2.0333e-01, -2.1335e-01,\n",
            "         -1.5120e-01,  5.9149e-02, -1.2325e-01,  1.7220e-01, -7.2431e-03,\n",
            "          1.5709e-02, -4.1344e-02, -3.4989e-01, -3.5029e-01, -3.3703e-03,\n",
            "         -1.6104e-01, -2.2504e-02,  6.4444e-02,  1.2210e-01,  3.6567e-01,\n",
            "         -1.7488e-01,  3.6791e-01,  1.6295e-01, -5.8115e-02,  3.7278e-03],\n",
            "        [ 6.4762e-02,  2.6129e-02,  1.4262e-01,  1.3905e-01, -5.4928e-02,\n",
            "          1.7671e-01, -1.3862e-01,  1.7150e-01,  2.8382e-01, -2.0345e-01,\n",
            "          5.6424e-02,  7.6854e-02, -1.5817e-02, -2.1171e-01, -1.3689e-02,\n",
            "          4.6938e-01,  2.5540e-02,  3.5033e-01, -1.8243e-01, -2.4087e-01,\n",
            "          1.9033e-01, -1.4786e-02,  3.1229e-01, -1.4244e-01, -1.9918e-01,\n",
            "          2.0580e-01,  1.5262e-01,  8.5135e-02,  1.1164e-01, -4.9073e-01],\n",
            "        [ 1.2172e-01,  2.1626e-02, -2.7000e-01, -4.7226e-02,  1.6503e-01,\n",
            "          2.3555e-01,  2.6222e-01,  2.9910e-02, -8.2592e-02, -2.3539e-01,\n",
            "          1.1349e-01, -4.4792e-02,  1.0573e-01,  9.4688e-02,  3.0772e-03,\n",
            "         -5.3594e-02,  8.1792e-03, -2.1817e-02, -3.3871e-01,  2.0408e-01,\n",
            "          6.5337e-02,  1.1387e-01, -3.9577e-02,  4.7965e-02, -6.8012e-03,\n",
            "          8.5737e-02, -1.0718e-01, -2.4887e-01,  4.7301e-02,  9.4174e-02],\n",
            "        [ 9.6408e-02, -7.1930e-02, -1.0066e-01,  2.0346e-03,  4.4739e-02,\n",
            "          3.7613e-02, -6.9459e-02,  9.0497e-02, -1.0258e-02, -2.4328e-01,\n",
            "          1.7918e-01, -8.5911e-02, -1.5931e-01,  1.2736e-01, -7.8969e-04,\n",
            "          1.7971e-02,  1.7644e-01, -1.1526e-01,  4.2831e-01,  1.8185e-03,\n",
            "          1.1907e-01,  7.3362e-03, -7.9872e-02,  1.4264e-01, -2.1211e-02,\n",
            "         -3.6570e-03, -9.3580e-02,  9.9366e-02,  1.5618e-01,  1.0122e-01],\n",
            "        [ 7.8238e-02, -2.0632e-02,  6.6276e-02, -1.4800e-01, -1.4620e-01,\n",
            "         -1.0036e-28,  6.9574e-40, -3.1618e-39, -8.5069e-11,  3.0576e-29,\n",
            "         -3.6722e-09, -8.8457e-03, -2.4843e-02, -5.9167e-02,  2.8342e-39,\n",
            "          1.4461e-39,  2.9164e-39, -3.9589e-39, -5.5731e-39,  6.9885e-40,\n",
            "          9.1056e-02,  1.0727e-01, -1.2366e-01, -1.8913e-01, -2.3840e-15,\n",
            "         -4.1288e-10,  3.9164e-10,  7.6684e-40, -8.8574e-07,  4.9089e-26],\n",
            "        [-1.4548e-02, -5.5283e-03, -1.8515e-02, -2.1756e-02,  1.5451e-02,\n",
            "         -1.7375e-03, -7.1841e-03, -3.4811e-04, -1.8397e-02, -3.6079e-02,\n",
            "         -2.7435e-02, -1.3664e-03, -1.7698e-02, -1.9791e-02, -9.7221e-41,\n",
            "          7.1577e-03, -8.8157e-25,  7.0409e-18,  1.3145e-03, -1.3556e-26,\n",
            "         -1.3892e-02, -3.3538e-03, -1.7156e-02, -1.9449e-02,  3.4258e-02,\n",
            "         -1.4599e-02, -2.6758e-02, -7.3865e-03, -4.8578e-02,  8.4851e-04]],\n",
            "       requires_grad=True)\n"
          ]
        }
      ]
    },
    {
      "cell_type": "code",
      "source": [
        "bias0 = params[1]\n",
        "bias0.shape"
      ],
      "metadata": {
        "colab": {
          "base_uri": "https://localhost:8080/"
        },
        "id": "917dpguEG8Rv",
        "outputId": "c9266597-2755-4ecb-d23e-7aaaef04a73e"
      },
      "execution_count": null,
      "outputs": [
        {
          "output_type": "execute_result",
          "data": {
            "text/plain": [
              "torch.Size([16])"
            ]
          },
          "metadata": {},
          "execution_count": 46
        }
      ]
    },
    {
      "cell_type": "code",
      "source": [
        "pesos1 = params[2]\n",
        "pesos1.shape"
      ],
      "metadata": {
        "colab": {
          "base_uri": "https://localhost:8080/"
        },
        "id": "61BKop8FHHf-",
        "outputId": "f557a776-0852-4ee5-e6d2-2e85ffbbe186"
      },
      "execution_count": null,
      "outputs": [
        {
          "output_type": "execute_result",
          "data": {
            "text/plain": [
              "torch.Size([16, 16])"
            ]
          },
          "metadata": {},
          "execution_count": 47
        }
      ]
    },
    {
      "cell_type": "code",
      "source": [
        "bias1 = params[3]\n",
        "bias1.shape"
      ],
      "metadata": {
        "colab": {
          "base_uri": "https://localhost:8080/"
        },
        "id": "D9wexQgfHTdR",
        "outputId": "20aec0ae-d008-49b8-f33c-727bfe798afd"
      },
      "execution_count": null,
      "outputs": [
        {
          "output_type": "execute_result",
          "data": {
            "text/plain": [
              "torch.Size([16])"
            ]
          },
          "metadata": {},
          "execution_count": 48
        }
      ]
    },
    {
      "cell_type": "markdown",
      "source": [
        "##Model Evaluation"
      ],
      "metadata": {
        "id": "reM9tPgIHdU9"
      }
    },
    {
      "cell_type": "code",
      "source": [
        "classificador.eval()"
      ],
      "metadata": {
        "colab": {
          "base_uri": "https://localhost:8080/"
        },
        "id": "ws7MJlXiHW-c",
        "outputId": "ede3553b-5a4d-4601-c002-29ffd7ac7f05"
      },
      "execution_count": null,
      "outputs": [
        {
          "output_type": "execute_result",
          "data": {
            "text/plain": [
              "Sequential(\n",
              "  (0): Linear(in_features=30, out_features=16, bias=True)\n",
              "  (1): ReLU()\n",
              "  (2): Linear(in_features=16, out_features=16, bias=True)\n",
              "  (3): ReLU()\n",
              "  (4): Linear(in_features=16, out_features=1, bias=True)\n",
              "  (5): Sigmoid()\n",
              ")"
            ]
          },
          "metadata": {},
          "execution_count": 49
        }
      ]
    },
    {
      "cell_type": "code",
      "source": [
        "type(previsores_test)"
      ],
      "metadata": {
        "colab": {
          "base_uri": "https://localhost:8080/",
          "height": 203
        },
        "id": "8m3OeihhIvBg",
        "outputId": "7211da7b-cb4f-4e37-8d06-49f0b7bbb2e1"
      },
      "execution_count": null,
      "outputs": [
        {
          "output_type": "execute_result",
          "data": {
            "text/plain": [
              "pandas.core.frame.DataFrame"
            ],
            "text/html": [
              "<div style=\"max-width:800px; border: 1px solid var(--colab-border-color);\"><style>\n",
              "      pre.function-repr-contents {\n",
              "        overflow-x: auto;\n",
              "        padding: 8px 12px;\n",
              "        max-height: 500px;\n",
              "      }\n",
              "\n",
              "      pre.function-repr-contents.function-repr-contents-collapsed {\n",
              "        cursor: pointer;\n",
              "        max-height: 100px;\n",
              "      }\n",
              "    </style>\n",
              "    <pre style=\"white-space: initial; background:\n",
              "         var(--colab-secondary-surface-color); padding: 8px 12px;\n",
              "         border-bottom: 1px solid var(--colab-border-color);\"><b>pandas.core.frame.DataFrame</b><br/>def __init__(data=None, index: Axes | None=None, columns: Axes | None=None, dtype: Dtype | None=None, copy: bool | None=None) -&gt; None</pre><pre class=\"function-repr-contents function-repr-contents-collapsed\" style=\"\"><a class=\"filepath\" style=\"display:none\" href=\"#\">/usr/local/lib/python3.10/dist-packages/pandas/core/frame.py</a>Two-dimensional, size-mutable, potentially heterogeneous tabular data.\n",
              "\n",
              "Data structure also contains labeled axes (rows and columns).\n",
              "Arithmetic operations align on both row and column labels. Can be\n",
              "thought of as a dict-like container for Series objects. The primary\n",
              "pandas data structure.\n",
              "\n",
              "Parameters\n",
              "----------\n",
              "data : ndarray (structured or homogeneous), Iterable, dict, or DataFrame\n",
              "    Dict can contain Series, arrays, constants, dataclass or list-like objects. If\n",
              "    data is a dict, column order follows insertion-order. If a dict contains Series\n",
              "    which have an index defined, it is aligned by its index. This alignment also\n",
              "    occurs if data is a Series or a DataFrame itself. Alignment is done on\n",
              "    Series/DataFrame inputs.\n",
              "\n",
              "    If data is a list of dicts, column order follows insertion-order.\n",
              "\n",
              "index : Index or array-like\n",
              "    Index to use for resulting frame. Will default to RangeIndex if\n",
              "    no indexing information part of input data and no index provided.\n",
              "columns : Index or array-like\n",
              "    Column labels to use for resulting frame when data does not have them,\n",
              "    defaulting to RangeIndex(0, 1, 2, ..., n). If data contains column labels,\n",
              "    will perform column selection instead.\n",
              "dtype : dtype, default None\n",
              "    Data type to force. Only a single dtype is allowed. If None, infer.\n",
              "copy : bool or None, default None\n",
              "    Copy data from inputs.\n",
              "    For dict data, the default of None behaves like ``copy=True``.  For DataFrame\n",
              "    or 2d ndarray input, the default of None behaves like ``copy=False``.\n",
              "    If data is a dict containing one or more Series (possibly of different dtypes),\n",
              "    ``copy=False`` will ensure that these inputs are not copied.\n",
              "\n",
              "    .. versionchanged:: 1.3.0\n",
              "\n",
              "See Also\n",
              "--------\n",
              "DataFrame.from_records : Constructor from tuples, also record arrays.\n",
              "DataFrame.from_dict : From dicts of Series, arrays, or dicts.\n",
              "read_csv : Read a comma-separated values (csv) file into DataFrame.\n",
              "read_table : Read general delimited file into DataFrame.\n",
              "read_clipboard : Read text from clipboard into DataFrame.\n",
              "\n",
              "Notes\n",
              "-----\n",
              "Please reference the :ref:`User Guide &lt;basics.dataframe&gt;` for more information.\n",
              "\n",
              "Examples\n",
              "--------\n",
              "Constructing DataFrame from a dictionary.\n",
              "\n",
              "&gt;&gt;&gt; d = {&#x27;col1&#x27;: [1, 2], &#x27;col2&#x27;: [3, 4]}\n",
              "&gt;&gt;&gt; df = pd.DataFrame(data=d)\n",
              "&gt;&gt;&gt; df\n",
              "   col1  col2\n",
              "0     1     3\n",
              "1     2     4\n",
              "\n",
              "Notice that the inferred dtype is int64.\n",
              "\n",
              "&gt;&gt;&gt; df.dtypes\n",
              "col1    int64\n",
              "col2    int64\n",
              "dtype: object\n",
              "\n",
              "To enforce a single dtype:\n",
              "\n",
              "&gt;&gt;&gt; df = pd.DataFrame(data=d, dtype=np.int8)\n",
              "&gt;&gt;&gt; df.dtypes\n",
              "col1    int8\n",
              "col2    int8\n",
              "dtype: object\n",
              "\n",
              "Constructing DataFrame from a dictionary including Series:\n",
              "\n",
              "&gt;&gt;&gt; d = {&#x27;col1&#x27;: [0, 1, 2, 3], &#x27;col2&#x27;: pd.Series([2, 3], index=[2, 3])}\n",
              "&gt;&gt;&gt; pd.DataFrame(data=d, index=[0, 1, 2, 3])\n",
              "   col1  col2\n",
              "0     0   NaN\n",
              "1     1   NaN\n",
              "2     2   2.0\n",
              "3     3   3.0\n",
              "\n",
              "Constructing DataFrame from numpy ndarray:\n",
              "\n",
              "&gt;&gt;&gt; df2 = pd.DataFrame(np.array([[1, 2, 3], [4, 5, 6], [7, 8, 9]]),\n",
              "...                    columns=[&#x27;a&#x27;, &#x27;b&#x27;, &#x27;c&#x27;])\n",
              "&gt;&gt;&gt; df2\n",
              "   a  b  c\n",
              "0  1  2  3\n",
              "1  4  5  6\n",
              "2  7  8  9\n",
              "\n",
              "Constructing DataFrame from a numpy ndarray that has labeled columns:\n",
              "\n",
              "&gt;&gt;&gt; data = np.array([(1, 2, 3), (4, 5, 6), (7, 8, 9)],\n",
              "...                 dtype=[(&quot;a&quot;, &quot;i4&quot;), (&quot;b&quot;, &quot;i4&quot;), (&quot;c&quot;, &quot;i4&quot;)])\n",
              "&gt;&gt;&gt; df3 = pd.DataFrame(data, columns=[&#x27;c&#x27;, &#x27;a&#x27;])\n",
              "...\n",
              "&gt;&gt;&gt; df3\n",
              "   c  a\n",
              "0  3  1\n",
              "1  6  4\n",
              "2  9  7\n",
              "\n",
              "Constructing DataFrame from dataclass:\n",
              "\n",
              "&gt;&gt;&gt; from dataclasses import make_dataclass\n",
              "&gt;&gt;&gt; Point = make_dataclass(&quot;Point&quot;, [(&quot;x&quot;, int), (&quot;y&quot;, int)])\n",
              "&gt;&gt;&gt; pd.DataFrame([Point(0, 0), Point(0, 3), Point(2, 3)])\n",
              "   x  y\n",
              "0  0  0\n",
              "1  0  3\n",
              "2  2  3\n",
              "\n",
              "Constructing DataFrame from Series/DataFrame:\n",
              "\n",
              "&gt;&gt;&gt; ser = pd.Series([1, 2, 3], index=[&quot;a&quot;, &quot;b&quot;, &quot;c&quot;])\n",
              "&gt;&gt;&gt; df = pd.DataFrame(data=ser, index=[&quot;a&quot;, &quot;c&quot;])\n",
              "&gt;&gt;&gt; df\n",
              "   0\n",
              "a  1\n",
              "c  3\n",
              "\n",
              "&gt;&gt;&gt; df1 = pd.DataFrame([1, 2, 3], index=[&quot;a&quot;, &quot;b&quot;, &quot;c&quot;], columns=[&quot;x&quot;])\n",
              "&gt;&gt;&gt; df2 = pd.DataFrame(data=df1, index=[&quot;a&quot;, &quot;c&quot;])\n",
              "&gt;&gt;&gt; df2\n",
              "   x\n",
              "a  1\n",
              "c  3</pre>\n",
              "      <script>\n",
              "      if (google.colab.kernel.accessAllowed && google.colab.files && google.colab.files.view) {\n",
              "        for (const element of document.querySelectorAll('.filepath')) {\n",
              "          element.style.display = 'block'\n",
              "          element.onclick = (event) => {\n",
              "            event.preventDefault();\n",
              "            event.stopPropagation();\n",
              "            google.colab.files.view(element.textContent, 490);\n",
              "          };\n",
              "        }\n",
              "      }\n",
              "      for (const element of document.querySelectorAll('.function-repr-contents')) {\n",
              "        element.onclick = (event) => {\n",
              "          event.preventDefault();\n",
              "          event.stopPropagation();\n",
              "          element.classList.toggle('function-repr-contents-collapsed');\n",
              "        };\n",
              "      }\n",
              "      </script>\n",
              "      </div>"
            ]
          },
          "metadata": {},
          "execution_count": 51
        }
      ]
    },
    {
      "cell_type": "code",
      "source": [
        "previsores_test = torch.tensor(np.array(previsores_test), dtype=torch.float)"
      ],
      "metadata": {
        "id": "VXoupKqyIzKm"
      },
      "execution_count": null,
      "outputs": []
    },
    {
      "cell_type": "code",
      "source": [
        "type(previsores_test)"
      ],
      "metadata": {
        "colab": {
          "base_uri": "https://localhost:8080/"
        },
        "id": "_V4sfTZpJIOH",
        "outputId": "6d998022-9547-4233-cbfa-7aaa3a36db34"
      },
      "execution_count": null,
      "outputs": [
        {
          "output_type": "execute_result",
          "data": {
            "text/plain": [
              "torch.Tensor"
            ]
          },
          "metadata": {},
          "execution_count": 53
        }
      ]
    },
    {
      "cell_type": "code",
      "source": [
        "previsoes = classificador(previsores_test)"
      ],
      "metadata": {
        "id": "Bnaeyo5EJKTH"
      },
      "execution_count": null,
      "outputs": []
    },
    {
      "cell_type": "code",
      "source": [
        "previsoes"
      ],
      "metadata": {
        "colab": {
          "base_uri": "https://localhost:8080/"
        },
        "id": "wehFs0f_JpB4",
        "outputId": "d69ebbd6-875f-4fcd-cd9e-d46ba34fe528"
      },
      "execution_count": null,
      "outputs": [
        {
          "output_type": "execute_result",
          "data": {
            "text/plain": [
              "tensor([[9.5697e-01],\n",
              "        [1.0000e+00],\n",
              "        [2.2287e-02],\n",
              "        [9.8567e-01],\n",
              "        [2.3739e-05],\n",
              "        [6.3560e-01],\n",
              "        [8.9823e-01],\n",
              "        [9.9994e-01],\n",
              "        [6.1136e-01],\n",
              "        [4.5702e-01],\n",
              "        [9.7953e-01],\n",
              "        [9.9561e-01],\n",
              "        [9.9998e-01],\n",
              "        [9.7363e-01],\n",
              "        [9.8123e-01],\n",
              "        [6.3703e-01],\n",
              "        [9.5512e-01],\n",
              "        [1.0000e+00],\n",
              "        [6.0816e-01],\n",
              "        [9.9927e-01],\n",
              "        [7.0232e-13],\n",
              "        [4.7796e-03],\n",
              "        [3.1601e-01],\n",
              "        [1.0000e+00],\n",
              "        [7.7158e-01],\n",
              "        [9.7469e-04],\n",
              "        [2.9989e-01],\n",
              "        [1.0000e+00],\n",
              "        [4.7244e-05],\n",
              "        [9.8452e-01],\n",
              "        [1.0342e-01],\n",
              "        [1.0000e+00],\n",
              "        [9.2647e-01],\n",
              "        [9.0535e-01],\n",
              "        [3.9962e-02],\n",
              "        [9.8564e-01],\n",
              "        [2.0786e-01],\n",
              "        [9.9845e-01],\n",
              "        [9.9997e-01],\n",
              "        [2.0826e-05],\n",
              "        [1.8295e-03],\n",
              "        [6.2906e-01],\n",
              "        [1.6008e-07],\n",
              "        [2.5814e-01],\n",
              "        [4.1453e-05],\n",
              "        [5.5328e-01],\n",
              "        [2.3563e-05],\n",
              "        [3.5650e-37],\n",
              "        [3.2203e-01],\n",
              "        [1.0831e-01],\n",
              "        [9.8096e-01],\n",
              "        [1.1802e-17],\n",
              "        [7.8094e-01],\n",
              "        [9.8176e-01],\n",
              "        [9.8413e-01],\n",
              "        [5.4297e-01],\n",
              "        [9.9981e-01],\n",
              "        [3.0841e-08],\n",
              "        [5.8726e-07],\n",
              "        [9.8778e-01],\n",
              "        [7.8583e-06],\n",
              "        [9.9567e-01],\n",
              "        [9.8825e-01],\n",
              "        [9.9782e-01],\n",
              "        [5.1120e-01],\n",
              "        [4.4875e-09],\n",
              "        [1.0000e+00],\n",
              "        [1.0000e+00],\n",
              "        [1.0000e+00],\n",
              "        [2.6961e-01],\n",
              "        [1.0000e+00],\n",
              "        [9.5664e-01],\n",
              "        [4.9144e-02],\n",
              "        [8.7549e-01],\n",
              "        [4.9908e-04],\n",
              "        [9.9850e-01],\n",
              "        [9.6151e-01],\n",
              "        [1.0340e-12],\n",
              "        [6.4933e-06],\n",
              "        [6.3442e-01],\n",
              "        [8.9907e-01],\n",
              "        [5.6739e-08],\n",
              "        [1.4497e-07],\n",
              "        [9.5822e-01],\n",
              "        [1.0000e+00],\n",
              "        [1.0000e+00],\n",
              "        [5.7007e-02],\n",
              "        [9.8064e-01],\n",
              "        [9.5854e-04],\n",
              "        [7.9066e-01],\n",
              "        [3.5855e-03],\n",
              "        [9.5545e-01],\n",
              "        [9.8932e-01],\n",
              "        [1.7857e-03],\n",
              "        [9.8516e-01],\n",
              "        [9.9997e-01],\n",
              "        [9.9374e-01],\n",
              "        [9.9700e-01],\n",
              "        [6.0604e-03],\n",
              "        [1.0000e+00],\n",
              "        [9.9726e-01],\n",
              "        [1.0000e+00],\n",
              "        [9.8542e-01],\n",
              "        [9.9482e-01],\n",
              "        [9.9072e-01],\n",
              "        [1.0000e+00],\n",
              "        [1.0000e+00],\n",
              "        [9.9405e-01],\n",
              "        [1.0000e+00],\n",
              "        [9.7903e-01],\n",
              "        [1.0000e+00],\n",
              "        [1.0000e+00],\n",
              "        [3.9130e-01],\n",
              "        [2.9460e-06],\n",
              "        [8.5846e-01],\n",
              "        [4.6273e-05],\n",
              "        [9.8672e-01],\n",
              "        [4.4086e-05],\n",
              "        [9.9140e-01],\n",
              "        [9.5063e-01],\n",
              "        [9.5957e-01],\n",
              "        [5.8248e-01],\n",
              "        [1.0000e+00],\n",
              "        [9.9744e-01],\n",
              "        [2.4624e-07],\n",
              "        [9.7349e-01],\n",
              "        [2.9104e-03],\n",
              "        [2.6459e-01],\n",
              "        [1.0000e+00],\n",
              "        [9.9986e-01],\n",
              "        [3.2080e-09],\n",
              "        [8.8962e-01],\n",
              "        [1.0000e+00],\n",
              "        [1.8545e-02],\n",
              "        [4.1504e-06],\n",
              "        [9.4989e-01],\n",
              "        [9.6984e-01],\n",
              "        [9.9975e-01],\n",
              "        [1.6007e-02],\n",
              "        [3.5644e-06],\n",
              "        [4.0930e-06],\n",
              "        [9.4346e-01],\n",
              "        [2.3126e-12]], grad_fn=<SigmoidBackward0>)"
            ]
          },
          "metadata": {},
          "execution_count": 55
        }
      ]
    },
    {
      "cell_type": "code",
      "source": [
        "previsoes = np.array(previsoes > 0.5)\n",
        "previsoes"
      ],
      "metadata": {
        "colab": {
          "base_uri": "https://localhost:8080/"
        },
        "id": "6td0JB2oJ3ZA",
        "outputId": "d934c14d-500a-4960-e513-3f70d2f7aad7"
      },
      "execution_count": null,
      "outputs": [
        {
          "output_type": "execute_result",
          "data": {
            "text/plain": [
              "array([[ True],\n",
              "       [ True],\n",
              "       [False],\n",
              "       [ True],\n",
              "       [False],\n",
              "       [ True],\n",
              "       [ True],\n",
              "       [ True],\n",
              "       [ True],\n",
              "       [False],\n",
              "       [ True],\n",
              "       [ True],\n",
              "       [ True],\n",
              "       [ True],\n",
              "       [ True],\n",
              "       [ True],\n",
              "       [ True],\n",
              "       [ True],\n",
              "       [ True],\n",
              "       [ True],\n",
              "       [False],\n",
              "       [False],\n",
              "       [False],\n",
              "       [ True],\n",
              "       [ True],\n",
              "       [False],\n",
              "       [False],\n",
              "       [ True],\n",
              "       [False],\n",
              "       [ True],\n",
              "       [False],\n",
              "       [ True],\n",
              "       [ True],\n",
              "       [ True],\n",
              "       [False],\n",
              "       [ True],\n",
              "       [False],\n",
              "       [ True],\n",
              "       [ True],\n",
              "       [False],\n",
              "       [False],\n",
              "       [ True],\n",
              "       [False],\n",
              "       [False],\n",
              "       [False],\n",
              "       [ True],\n",
              "       [False],\n",
              "       [False],\n",
              "       [False],\n",
              "       [False],\n",
              "       [ True],\n",
              "       [False],\n",
              "       [ True],\n",
              "       [ True],\n",
              "       [ True],\n",
              "       [ True],\n",
              "       [ True],\n",
              "       [False],\n",
              "       [False],\n",
              "       [ True],\n",
              "       [False],\n",
              "       [ True],\n",
              "       [ True],\n",
              "       [ True],\n",
              "       [ True],\n",
              "       [False],\n",
              "       [ True],\n",
              "       [ True],\n",
              "       [ True],\n",
              "       [False],\n",
              "       [ True],\n",
              "       [ True],\n",
              "       [False],\n",
              "       [ True],\n",
              "       [False],\n",
              "       [ True],\n",
              "       [ True],\n",
              "       [False],\n",
              "       [False],\n",
              "       [ True],\n",
              "       [ True],\n",
              "       [False],\n",
              "       [False],\n",
              "       [ True],\n",
              "       [ True],\n",
              "       [ True],\n",
              "       [False],\n",
              "       [ True],\n",
              "       [False],\n",
              "       [ True],\n",
              "       [False],\n",
              "       [ True],\n",
              "       [ True],\n",
              "       [False],\n",
              "       [ True],\n",
              "       [ True],\n",
              "       [ True],\n",
              "       [ True],\n",
              "       [False],\n",
              "       [ True],\n",
              "       [ True],\n",
              "       [ True],\n",
              "       [ True],\n",
              "       [ True],\n",
              "       [ True],\n",
              "       [ True],\n",
              "       [ True],\n",
              "       [ True],\n",
              "       [ True],\n",
              "       [ True],\n",
              "       [ True],\n",
              "       [ True],\n",
              "       [False],\n",
              "       [False],\n",
              "       [ True],\n",
              "       [False],\n",
              "       [ True],\n",
              "       [False],\n",
              "       [ True],\n",
              "       [ True],\n",
              "       [ True],\n",
              "       [ True],\n",
              "       [ True],\n",
              "       [ True],\n",
              "       [False],\n",
              "       [ True],\n",
              "       [False],\n",
              "       [False],\n",
              "       [ True],\n",
              "       [ True],\n",
              "       [False],\n",
              "       [ True],\n",
              "       [ True],\n",
              "       [False],\n",
              "       [False],\n",
              "       [ True],\n",
              "       [ True],\n",
              "       [ True],\n",
              "       [False],\n",
              "       [False],\n",
              "       [False],\n",
              "       [ True],\n",
              "       [False]])"
            ]
          },
          "metadata": {},
          "execution_count": 57
        }
      ]
    },
    {
      "cell_type": "code",
      "source": [
        "taxa_acerto = accuracy_score(classe_test, previsoes)\n",
        "taxa_acerto"
      ],
      "metadata": {
        "colab": {
          "base_uri": "https://localhost:8080/"
        },
        "id": "-1S6QDSNJ8Gf",
        "outputId": "3a48ea6b-49d7-42eb-8758-df2c946f6dd6"
      },
      "execution_count": null,
      "outputs": [
        {
          "output_type": "execute_result",
          "data": {
            "text/plain": [
              "0.9020979020979021"
            ]
          },
          "metadata": {},
          "execution_count": 58
        }
      ]
    },
    {
      "cell_type": "code",
      "source": [
        "matriz = confusion_matrix(classe_test, previsoes)\n",
        "matriz"
      ],
      "metadata": {
        "colab": {
          "base_uri": "https://localhost:8080/"
        },
        "id": "02HgDsXwKX6o",
        "outputId": "0f147ec8-edb7-42f5-a500-d6b7a148e6fd"
      },
      "execution_count": null,
      "outputs": [
        {
          "output_type": "execute_result",
          "data": {
            "text/plain": [
              "array([[46,  8],\n",
              "       [ 6, 83]])"
            ]
          },
          "metadata": {},
          "execution_count": 61
        }
      ]
    },
    {
      "cell_type": "code",
      "source": [
        "sns.heatmap(matriz, annot=True);"
      ],
      "metadata": {
        "colab": {
          "base_uri": "https://localhost:8080/",
          "height": 430
        },
        "id": "HNIYkX0_K1Yv",
        "outputId": "50873dc5-534c-4ed6-bc67-5c6556ddaddc"
      },
      "execution_count": null,
      "outputs": [
        {
          "output_type": "display_data",
          "data": {
            "text/plain": [
              "<Figure size 640x480 with 2 Axes>"
            ],
            "image/png": "[encoded data removed]"
          },
          "metadata": {}
        }
      ]
    }
  ]
}